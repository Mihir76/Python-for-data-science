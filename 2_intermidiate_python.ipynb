{
  "nbformat": 4,
  "nbformat_minor": 0,
  "metadata": {
    "colab": {
      "provenance": [],
      "toc_visible": true,
      "authorship_tag": "ABX9TyNbLw+o5yeWyma0Pqx7wAfn",
      "include_colab_link": true
    },
    "kernelspec": {
      "name": "python3",
      "display_name": "Python 3"
    },
    "language_info": {
      "name": "python"
    }
  },
  "cells": [
    {
      "cell_type": "markdown",
      "metadata": {
        "id": "view-in-github",
        "colab_type": "text"
      },
      "source": [
        "<a href=\"https://colab.research.google.com/github/Mihir76/Python-for-data-science/blob/main/2_intermidiate_python.ipynb\" target=\"_parent\"><img src=\"https://colab.research.google.com/assets/colab-badge.svg\" alt=\"Open In Colab\"/></a>"
      ]
    },
    {
      "cell_type": "markdown",
      "source": [
        "#**2 Intermidiate Python:-**"
      ],
      "metadata": {
        "id": "LM53OPugC9ir"
      }
    },
    {
      "cell_type": "markdown",
      "source": [
        "#**2.1 Function in Python:-**\n",
        "\n",
        "Function in Python are conveninent way to to divide code into useful blocks. The block of code is executed when the Function is called.\n",
        "\n",
        "**Type of Function:-**\n",
        "\n",
        "There are two main types of Function in Python :-\n",
        "\n",
        "*   **Build-in Function** - Function that are build-in in Python.\n",
        "*   **User-define Function** - Function a user can define explicity.\n"
      ],
      "metadata": {
        "id": "-sN8jopvC_N2"
      }
    },
    {
      "cell_type": "markdown",
      "source": [
        "##**2.1.1 Build-in Function :-**\n",
        "\n",
        "Example of Build-in Function :-"
      ],
      "metadata": {
        "id": "ERDi3gVjPihW"
      }
    },
    {
      "cell_type": "code",
      "source": [
        "#length function\n",
        "\n",
        "a = \"google\"\n",
        "len(a)"
      ],
      "metadata": {
        "colab": {
          "base_uri": "https://localhost:8080/"
        },
        "id": "bCvcYNbMMfUf",
        "outputId": "4b4d40fe-2317-4de2-f510-ab8cadd90d36"
      },
      "execution_count": null,
      "outputs": [
        {
          "output_type": "execute_result",
          "data": {
            "text/plain": [
              "6"
            ]
          },
          "metadata": {},
          "execution_count": 18
        }
      ]
    },
    {
      "cell_type": "code",
      "source": [
        "#upper-case converter\n",
        "a.upper()"
      ],
      "metadata": {
        "colab": {
          "base_uri": "https://localhost:8080/",
          "height": 36
        },
        "id": "st6IEi4-Mf4q",
        "outputId": "2b67c5db-76c1-4384-d7f8-3987037e742b"
      },
      "execution_count": null,
      "outputs": [
        {
          "output_type": "execute_result",
          "data": {
            "text/plain": [
              "'GOOGLE'"
            ],
            "application/vnd.google.colaboratory.intrinsic+json": {
              "type": "string"
            }
          },
          "metadata": {},
          "execution_count": 19
        }
      ]
    },
    {
      "cell_type": "code",
      "source": [
        "#round and abs function\n",
        "\n",
        "abs(round(-15/7,3))"
      ],
      "metadata": {
        "colab": {
          "base_uri": "https://localhost:8080/"
        },
        "id": "h-AmJzJwMgR-",
        "outputId": "66559005-d53e-4fa5-ba43-a274c4b4e351"
      },
      "execution_count": null,
      "outputs": [
        {
          "output_type": "execute_result",
          "data": {
            "text/plain": [
              "2.143"
            ]
          },
          "metadata": {},
          "execution_count": 20
        }
      ]
    },
    {
      "cell_type": "code",
      "source": [
        "#min function\n",
        "min(15,23,6,98,62,33)"
      ],
      "metadata": {
        "colab": {
          "base_uri": "https://localhost:8080/"
        },
        "id": "k5oVgxx5odeb",
        "outputId": "edc037b4-072f-4da1-d2f1-7334bb595daf"
      },
      "execution_count": null,
      "outputs": [
        {
          "output_type": "execute_result",
          "data": {
            "text/plain": [
              "6"
            ]
          },
          "metadata": {},
          "execution_count": 23
        }
      ]
    },
    {
      "cell_type": "code",
      "source": [
        "#max function\n",
        "max(52,369,12,20,57,14)"
      ],
      "metadata": {
        "colab": {
          "base_uri": "https://localhost:8080/"
        },
        "id": "TJF1TeUKo5vJ",
        "outputId": "2533973c-29a8-4e30-af22-6f61b0421247"
      },
      "execution_count": null,
      "outputs": [
        {
          "output_type": "execute_result",
          "data": {
            "text/plain": [
              "369"
            ]
          },
          "metadata": {},
          "execution_count": 24
        }
      ]
    },
    {
      "cell_type": "code",
      "source": [
        "#replace function\n",
        "name = \"Mihit\"\n",
        "name.replace(\"t\",\"r\")"
      ],
      "metadata": {
        "colab": {
          "base_uri": "https://localhost:8080/",
          "height": 36
        },
        "id": "DxfJAX5UpNfu",
        "outputId": "3f2bb2ee-1e48-4038-ac4f-ce507e913c37"
      },
      "execution_count": null,
      "outputs": [
        {
          "output_type": "execute_result",
          "data": {
            "text/plain": [
              "'Mihir'"
            ],
            "application/vnd.google.colaboratory.intrinsic+json": {
              "type": "string"
            }
          },
          "metadata": {},
          "execution_count": 25
        }
      ]
    },
    {
      "cell_type": "markdown",
      "source": [
        "##**2.1.2 User-defined Function:-**\n",
        "\n",
        "**Component of Function :-**\n",
        "\n",
        "*   keyword **def** that marks the start of the Function.def is short form of keyword \"define\". \n",
        "*   A **Function name** to uniquely identify the funbction.\n",
        "*   **Paramneter(arguments)** through we pass the values to function.These are optional.\n",
        "*   A **colon(:)** to marks the end of function.\n",
        "*   One or more valid Python **statements** that make up the function body.\n",
        "*   An optional **return statement** to return a value from the function. \n",
        "\n",
        "Example :-"
      ],
      "metadata": {
        "id": "srGefZFBPeWs"
      }
    },
    {
      "cell_type": "code",
      "source": [
        "def addition(a,b):\n",
        "  sum = a+b\n",
        "  return sum"
      ],
      "metadata": {
        "id": "D3cKEDCgRVD8"
      },
      "execution_count": null,
      "outputs": []
    },
    {
      "cell_type": "markdown",
      "source": [
        "**Calling the Function :-**"
      ],
      "metadata": {
        "id": "A7koilL-ZsMW"
      }
    },
    {
      "cell_type": "code",
      "source": [
        "addition(5,26)"
      ],
      "metadata": {
        "colab": {
          "base_uri": "https://localhost:8080/"
        },
        "id": "-yJpwCG4Z0K-",
        "outputId": "7d235229-371b-46a2-b3c1-bb0f128e0f88"
      },
      "execution_count": null,
      "outputs": [
        {
          "output_type": "execute_result",
          "data": {
            "text/plain": [
              "31"
            ]
          },
          "metadata": {},
          "execution_count": 3
        }
      ]
    },
    {
      "cell_type": "code",
      "source": [
        "#calculating simple interrest\n",
        "\n",
        "def interest_cal(amount,rate,time):\n",
        "  interest = (amount*rate*time)/100\n",
        "  return interest\n",
        "\n",
        "interest_cal(10000,.3,5)  "
      ],
      "metadata": {
        "colab": {
          "base_uri": "https://localhost:8080/"
        },
        "id": "76I38jV3Z-MS",
        "outputId": "cce92e65-2cfa-4464-c756-adb3a5354b52"
      },
      "execution_count": null,
      "outputs": [
        {
          "output_type": "execute_result",
          "data": {
            "text/plain": [
              "150.0"
            ]
          },
          "metadata": {},
          "execution_count": 4
        }
      ]
    },
    {
      "cell_type": "code",
      "source": [
        "#creating function that print emoji\n",
        "\n",
        "def emoji(unicode=None):\n",
        "  print(unicode)\n",
        "\n",
        "emoji(\"\\U0001F60E\")  "
      ],
      "metadata": {
        "colab": {
          "base_uri": "https://localhost:8080/"
        },
        "id": "Ibx0f5QkcMmw",
        "outputId": "d68315cf-143b-47ff-f569-ab22fded91c3"
      },
      "execution_count": null,
      "outputs": [
        {
          "output_type": "stream",
          "name": "stdout",
          "text": [
            "😎\n"
          ]
        }
      ]
    },
    {
      "cell_type": "markdown",
      "source": [
        "###**2.1.2.i Arbitray Arguments:-**\n",
        "\n",
        "In Python, We use Arbitary argument when we did not know the number of arguments function will accept in advance.\n",
        "\n",
        "Example :-"
      ],
      "metadata": {
        "id": "rqtc3FjddHCc"
      }
    },
    {
      "cell_type": "code",
      "source": [
        "#arbitrary Argument\n",
        "\n",
        "def students(*names):\n",
        "  for name in names:\n",
        "    print(f\"Welcome {name}\")\n",
        "\n",
        "\n",
        "students(\"Mihir\",\"Crish\",\"John\",\"Alex\",\"Mohhamed\")    "
      ],
      "metadata": {
        "colab": {
          "base_uri": "https://localhost:8080/"
        },
        "id": "LwAhmiswdvWa",
        "outputId": "7e3d9aac-7770-44fd-ca38-a517fe6a8752"
      },
      "execution_count": null,
      "outputs": [
        {
          "output_type": "stream",
          "name": "stdout",
          "text": [
            "Welcome Mihir\n",
            "Welcome Crish\n",
            "Welcome John\n",
            "Welcome Alex\n",
            "Welcome Mohhamed\n"
          ]
        }
      ]
    },
    {
      "cell_type": "markdown",
      "source": [
        "###**2.1.2.ii Function with Loop:-**\n",
        "\n",
        "Example:-"
      ],
      "metadata": {
        "id": "63VggcJ7fIzY"
      }
    },
    {
      "cell_type": "code",
      "source": [
        "#Function with for loop\n",
        "\n",
        "def myFunction(*arg):\n",
        "  for i in arg:\n",
        "    print(i)\n",
        "\n",
        "myFunction('I','am','Mihir','Patel',1633)    "
      ],
      "metadata": {
        "colab": {
          "base_uri": "https://localhost:8080/"
        },
        "id": "z-7zKz3EfOwJ",
        "outputId": "77117ae4-2288-40e9-dfbc-f7513d6edd72"
      },
      "execution_count": null,
      "outputs": [
        {
          "output_type": "stream",
          "name": "stdout",
          "text": [
            "I\n",
            "am\n",
            "Mihir\n",
            "Patel\n",
            "1633\n"
          ]
        }
      ]
    },
    {
      "cell_type": "markdown",
      "source": [
        "###**2.1.2.iii Lambda Function:-**\n",
        "\n",
        "\n",
        "Anonymous Function is the function that is define without a name. We use the **def** keyword to create lamda function to define anonymous function.\n",
        "\n",
        "Example :-"
      ],
      "metadata": {
        "id": "9PpnNgdtgLmC"
      }
    },
    {
      "cell_type": "code",
      "source": [
        "#creating lamda function\n",
        "\n",
        "x = lambda a: a+10\n",
        "\n",
        "print(x(5))"
      ],
      "metadata": {
        "colab": {
          "base_uri": "https://localhost:8080/"
        },
        "id": "PBe3rTODkQKy",
        "outputId": "96e99df4-dbd3-4063-cb8f-a29a26648eb7"
      },
      "execution_count": null,
      "outputs": [
        {
          "output_type": "stream",
          "name": "stdout",
          "text": [
            "15\n"
          ]
        }
      ]
    },
    {
      "cell_type": "code",
      "source": [
        "#lambda with two arguments\n",
        "\n",
        "x = lambda m,n : m*n\n",
        "\n",
        "print(x(5,12))"
      ],
      "metadata": {
        "colab": {
          "base_uri": "https://localhost:8080/"
        },
        "id": "Vlp6c67Yk2OY",
        "outputId": "c1a991b4-1286-4cc3-f21e-a88733423263"
      },
      "execution_count": null,
      "outputs": [
        {
          "output_type": "stream",
          "name": "stdout",
          "text": [
            "60\n"
          ]
        }
      ]
    },
    {
      "cell_type": "markdown",
      "source": [
        "#**2.2 Local and Global Variable :-**\n",
        "\n"
      ],
      "metadata": {
        "id": "7aAiOrwYjs15"
      }
    },
    {
      "cell_type": "markdown",
      "source": [
        "##**2.2.1 Global Variable :-**\n",
        "\n",
        "**Global** variable in Python, declare out-side the function.That means you can use it in the function or out-side the function.\n",
        "\n",
        "Example:-"
      ],
      "metadata": {
        "id": "GF1zLG7VlneR"
      }
    },
    {
      "cell_type": "code",
      "source": [
        "#demonstraite the global variable\n",
        "\n",
        "glo = 'I an out-side the function.'\n",
        "\n",
        "def fun():\n",
        "  return glo #we can access the glo because it is global variable.\n",
        "\n",
        "fun()  "
      ],
      "metadata": {
        "colab": {
          "base_uri": "https://localhost:8080/",
          "height": 36
        },
        "id": "_rfzgcPMkr8L",
        "outputId": "2e42c237-dd29-45c9-e8bd-e8ce819fab4e"
      },
      "execution_count": null,
      "outputs": [
        {
          "output_type": "execute_result",
          "data": {
            "text/plain": [
              "'I an out-side the function.'"
            ],
            "application/vnd.google.colaboratory.intrinsic+json": {
              "type": "string"
            }
          },
          "metadata": {},
          "execution_count": 1
        }
      ]
    },
    {
      "cell_type": "markdown",
      "source": [
        "##**2.2.2 Local Variable :-**\n",
        "\n",
        "**Local variable** in Python, declare in-side the function. That means we can't use it out-side the function.\n",
        "\n",
        "Example:-"
      ],
      "metadata": {
        "id": "5-5vv-Jpluju"
      }
    },
    {
      "cell_type": "code",
      "source": [
        "#demonstation of local variable\n",
        "\n",
        "def function():\n",
        "  loc = 'I am inside-function and I am local variable.'\n",
        "  return loc\n",
        "\n",
        "#if we call function() than it will print the loc but if we try to access it then we get an error.\n",
        "\n",
        "function() #it works perfectly\n",
        "\n",
        "print(loc) #it will give an error"
      ],
      "metadata": {
        "colab": {
          "base_uri": "https://localhost:8080/",
          "height": 200
        },
        "id": "dYmmc9ELmaEv",
        "outputId": "8420477e-7798-4fe4-d0d0-9add62f6c58c"
      },
      "execution_count": null,
      "outputs": [
        {
          "output_type": "error",
          "ename": "NameError",
          "evalue": "ignored",
          "traceback": [
            "\u001b[0;31m---------------------------------------------------------------------------\u001b[0m",
            "\u001b[0;31mNameError\u001b[0m                                 Traceback (most recent call last)",
            "\u001b[0;32m<ipython-input-2-f67dd908ccdf>\u001b[0m in \u001b[0;36m<module>\u001b[0;34m\u001b[0m\n\u001b[1;32m      9\u001b[0m \u001b[0mfunction\u001b[0m\u001b[0;34m(\u001b[0m\u001b[0;34m)\u001b[0m \u001b[0;31m#it works perfectly\u001b[0m\u001b[0;34m\u001b[0m\u001b[0;34m\u001b[0m\u001b[0m\n\u001b[1;32m     10\u001b[0m \u001b[0;34m\u001b[0m\u001b[0m\n\u001b[0;32m---> 11\u001b[0;31m \u001b[0mprint\u001b[0m\u001b[0;34m(\u001b[0m\u001b[0mloc\u001b[0m\u001b[0;34m)\u001b[0m \u001b[0;31m#it will give an error\u001b[0m\u001b[0;34m\u001b[0m\u001b[0;34m\u001b[0m\u001b[0m\n\u001b[0m",
            "\u001b[0;31mNameError\u001b[0m: name 'loc' is not defined"
          ]
        }
      ]
    },
    {
      "cell_type": "markdown",
      "source": [
        "**NB:** We can use both local and global variable together in-side any Function.\n",
        "\n",
        "Example:-"
      ],
      "metadata": {
        "id": "INgiOI9Im7OU"
      }
    },
    {
      "cell_type": "code",
      "source": [
        "a ='I am Global Variable'\n",
        "\n",
        "def function():\n",
        "  b='I am Local Variable.'\n",
        "  full_sentance= a +' and  '+ b\n",
        "  return full_sentance\n",
        "\n",
        "function()  "
      ],
      "metadata": {
        "colab": {
          "base_uri": "https://localhost:8080/",
          "height": 36
        },
        "id": "uMA1H893nR9L",
        "outputId": "e8caa7ef-a364-41be-9320-62b754e3b524"
      },
      "execution_count": null,
      "outputs": [
        {
          "output_type": "execute_result",
          "data": {
            "text/plain": [
              "'I am Global Variable and  I am Local Variable.'"
            ],
            "application/vnd.google.colaboratory.intrinsic+json": {
              "type": "string"
            }
          },
          "metadata": {},
          "execution_count": 6
        }
      ]
    },
    {
      "cell_type": "markdown",
      "source": [
        "#**2.3 Python File :-**\n",
        "\n",
        "We can think of Files as names location on disk to store related information, They are used to permenantly store data in non-volatile memory(e.g.Hard disk)\n",
        "\n",
        "Since Randome Access Memory(RAM) is volatile.i.e. It loses its data when the computer is turn off,it is wise to store the data on file in order to permenetly have access to it.\n",
        "\n",
        "Naormally, When we want to read or write file from file, we need to open it first and when we are done reading or writing to file, we close it so that any resources that file is using tied is freed for other use.\n",
        "\n",
        "In Python, files are treated in two modes as text or binary.The file may be in the text or binary formate and each line of file is ended with the specia character.\n",
        "\n",
        "Hence, a file operation can be done in the following order\n",
        "\n",
        "*   Open a file\n",
        "*   Read or Write file\n",
        "*   Close the file"
      ],
      "metadata": {
        "id": "Ub_XxZBwqENm"
      }
    },
    {
      "cell_type": "markdown",
      "source": [
        "##**2.3.1 Opening File:-**\n",
        "\n",
        "Python provide an **open()** function that accept two arguments one is the file name and second is access mode in which file can be accessed. "
      ],
      "metadata": {
        "id": "MYCC80rcBOt7"
      }
    },
    {
      "cell_type": "markdown",
      "source": [
        "There are several mode in Python associated with files are as shown below :-\n",
        "\n",
        "```\n",
        "Mode\tDescription\n",
        "r\tOpen a file for reading. (default)\n",
        "w\tOpen a file for writing. Creates a new file if it does not exist or truncates the file if it exists.\n",
        "x\tOpen a file for exclusive creation. If the file already exists, the operation fails.\n",
        "a\tOpen a file for appending at the end of the file without truncating it. Creates a new file if it does not exist.\n",
        "t\tOpen in text mode. (default)\n",
        "b\tOpen in binary mode.\n",
        "+\tOpen a file for updating (reading and writing)\n",
        "```"
      ],
      "metadata": {
        "id": "JRtv7NQ2F5Sc"
      }
    },
    {
      "cell_type": "code",
      "source": [
        "file = open(\"/content/demo.txt\")\n",
        "\n",
        "print(\"Data in file are : \")\n",
        "\n",
        "print(file.read())"
      ],
      "metadata": {
        "colab": {
          "base_uri": "https://localhost:8080/"
        },
        "id": "ze-k1HgTBq8f",
        "outputId": "f39906b5-f0f9-45d6-d7e8-894ab8b37f71"
      },
      "execution_count": null,
      "outputs": [
        {
          "output_type": "stream",
          "name": "stdout",
          "text": [
            "Data in file are : \n",
            "What is data science?\n",
            "\n",
            "Data science combines math and statistics, specialized programming, advanced analytics, artificial intelligence (AI), and machine learning with specific subject matter expertise to uncover actionable insights hidden in an organization’s data. These insights can be used to guide decision making and strategic planning.\n",
            "\n",
            "The accelerating volume of data sources, and subsequently data, has made data science is one of the fastest growing field across every industry. As a result, it is no surprise that the role of the data scientist was dubbed the “sexiest job of the 21st century” by Harvard Business Review (link resides outside of IBM). Organizations are increasingly reliant on them to interpret data and provide actionable recommendations to improve business outcomes.\n"
          ]
        }
      ]
    },
    {
      "cell_type": "code",
      "source": [
        "f = open(\"/content/demo.txt\")\n",
        "f.readline()"
      ],
      "metadata": {
        "colab": {
          "base_uri": "https://localhost:8080/",
          "height": 36
        },
        "id": "aMHc47dCIvlC",
        "outputId": "f30012a7-5304-4afd-f92a-458c8c67e4af"
      },
      "execution_count": null,
      "outputs": [
        {
          "output_type": "execute_result",
          "data": {
            "text/plain": [
              "'What is data science?\\n'"
            ],
            "application/vnd.google.colaboratory.intrinsic+json": {
              "type": "string"
            }
          },
          "metadata": {},
          "execution_count": 15
        }
      ]
    },
    {
      "cell_type": "code",
      "source": [
        "file"
      ],
      "metadata": {
        "colab": {
          "base_uri": "https://localhost:8080/"
        },
        "id": "YacPnPczLBiS",
        "outputId": "a6ada087-698d-4357-abdf-def17b55ce34"
      },
      "execution_count": null,
      "outputs": [
        {
          "output_type": "execute_result",
          "data": {
            "text/plain": [
              "<_io.TextIOWrapper name='/content/demo.txt' mode='r' encoding='UTF-8'>"
            ]
          },
          "metadata": {},
          "execution_count": 16
        }
      ]
    },
    {
      "cell_type": "markdown",
      "source": [
        "By defayult Python used **UTF-8** for encoding.\n",
        "\n",
        "**UTF-8** is one of the most commonly used encoding and python often defaults to used it.UTF stands for \"Unicode Transformation Formate\" and 8 means the 8-bit values are used for encoding.\n",
        "\n",
        "However, the default encoding platform dependent.In window it is cp1252 and in linux and mac it is utf-8 therefore it is highly recommand to specifies the encoding type."
      ],
      "metadata": {
        "id": "9K1wf8bqLLsF"
      }
    },
    {
      "cell_type": "markdown",
      "source": [
        "##**2.3.2 Close() Method:-**\n",
        "\n",
        "Closing the file in Python is simple process.\n",
        "\n",
        "After you are done reading or writing to the file, you can close the file by using **close()** method. "
      ],
      "metadata": {
        "id": "CxoSzkx4NE0h"
      }
    },
    {
      "cell_type": "code",
      "source": [
        "file = open(\"/content/demo.txt\")\n",
        "print(file.read())\n",
        "#Now we are close the file so that other resources associated with file can be released and avaible for use for other processes.\n",
        "file.close()"
      ],
      "metadata": {
        "colab": {
          "base_uri": "https://localhost:8080/"
        },
        "id": "FqEFDCeJNvpc",
        "outputId": "22fba9fe-8049-4508-a84d-58763ecb5e66"
      },
      "execution_count": null,
      "outputs": [
        {
          "output_type": "stream",
          "name": "stdout",
          "text": [
            "What is data science?\n",
            "\n",
            "Data science combines math and statistics, specialized programming, advanced analytics, artificial intelligence (AI), and machine learning with specific subject matter expertise to uncover actionable insights hidden in an organization’s data. These insights can be used to guide decision making and strategic planning.\n",
            "\n",
            "The accelerating volume of data sources, and subsequently data, has made data science is one of the fastest growing field across every industry. As a result, it is no surprise that the role of the data scientist was dubbed the “sexiest job of the 21st century” by Harvard Business Review (link resides outside of IBM). Organizations are increasingly reliant on them to interpret data and provide actionable recommendations to improve business outcomes.\n"
          ]
        }
      ]
    },
    {
      "cell_type": "markdown",
      "source": [
        "##**2.3.3 With statement:-**\n",
        "\n",
        "The with statement in Python is useful in the case manipulating file.It is especially used in scenario where a pair of statements are used to be execute with block of code in between them.\n",
        "\n",
        "Syntax:-\n",
        "\n",
        "**with open(```<file_name>,<access_mode>```) as``` <file_pointer> ```:**"
      ],
      "metadata": {
        "id": "c6MYRQKHOxJV"
      }
    },
    {
      "cell_type": "code",
      "source": [
        "#demonstation of with statement\n",
        "with open(\"/content/demo.txt\",\"r\") as file:\n",
        "  data= file.read()\n",
        "  print(data)"
      ],
      "metadata": {
        "colab": {
          "base_uri": "https://localhost:8080/"
        },
        "id": "94310LGvQpEs",
        "outputId": "338b9b7a-36ff-44dc-f218-f50f3d22c237"
      },
      "execution_count": null,
      "outputs": [
        {
          "output_type": "stream",
          "name": "stdout",
          "text": [
            "What is data science?\n",
            "\n",
            "Data science combines math and statistics, specialized programming, advanced analytics, artificial intelligence (AI), and machine learning with specific subject matter expertise to uncover actionable insights hidden in an organization’s data. These insights can be used to guide decision making and strategic planning.\n",
            "\n",
            "The accelerating volume of data sources, and subsequently data, has made data science is one of the fastest growing field across every industry. As a result, it is no surprise that the role of the data scientist was dubbed the “sexiest job of the 21st century” by Harvard Business Review (link resides outside of IBM). Organizations are increasingly reliant on them to interpret data and provide actionable recommendations to improve business outcomes.\n"
          ]
        }
      ]
    },
    {
      "cell_type": "markdown",
      "source": [
        "##**2.3.4 Writing in file:-**\n",
        "\n",
        "Writing to file is common practice in Python.In order to a file in python,we first need to open the file in **write(w)**  , **append(a)** or **exclusive creation(x)** mode.\n",
        "\n",
        "*   **w** : It will overwrite the file if any file exist.The file pointer is at the beginning of the file.\n",
        "*   **a** :It will append the existing file.The file pointer is at the end of the file.It create a new file if no file if exist.\n",
        "\n",
        "You therefore have to be careful when writing to a file because the **w** will overwrite your existing content if there exist any.If you wish to add content into an existing file than you can use the **a** mode.If you wish to write new file then go with w mode.\n",
        "\n",
        "writing to a file is done using the **write()** method.\n",
        "\n"
      ],
      "metadata": {
        "id": "ZbVO72sdTMUb"
      }
    },
    {
      "cell_type": "code",
      "source": [
        "#the following are the existing content of the file\n",
        "\n",
        "file = open(\"/content/file1.txt\",\"r\")\n",
        "print(file.read())"
      ],
      "metadata": {
        "colab": {
          "base_uri": "https://localhost:8080/"
        },
        "id": "TYq8SFiCV_E7",
        "outputId": "7e90d121-e5b8-4db3-fd3b-c61d03fa1940"
      },
      "execution_count": null,
      "outputs": [
        {
          "output_type": "stream",
          "name": "stdout",
          "text": [
            "This is the existing content of the file.\n"
          ]
        }
      ]
    },
    {
      "cell_type": "code",
      "source": [
        "#now let's open this file in 'w' mode\n",
        "\n",
        "file =open(\"/content/file1.txt\",\"w\")\n",
        "file.write(\"This is how you will write the file in Python.\")\n"
      ],
      "metadata": {
        "id": "V1zhYOoDWh2B"
      },
      "execution_count": null,
      "outputs": []
    },
    {
      "cell_type": "code",
      "source": [
        "file = open(\"/content/file1.txt\",\"r\")\n",
        "print(file.read())"
      ],
      "metadata": {
        "colab": {
          "base_uri": "https://localhost:8080/"
        },
        "id": "fQbGtLPhXL9j",
        "outputId": "dab439a3-9bb6-4845-c106-b4d7b16e670c"
      },
      "execution_count": null,
      "outputs": [
        {
          "output_type": "stream",
          "name": "stdout",
          "text": [
            "This is how you will write the file in Python.\n"
          ]
        }
      ]
    },
    {
      "cell_type": "markdown",
      "source": [
        "**NB: Notice how the new sentance has overwrite the existing one.We could have used the 'a' mode to append it instead.**"
      ],
      "metadata": {
        "id": "0u7asaxZX1mi"
      }
    },
    {
      "cell_type": "code",
      "source": [
        "#let's use append mode to write the file\n",
        "\n",
        "#first let's read the file\n",
        "\n",
        "with open(\"/content/file2.txt\",\"r\") as f:\n",
        "  data = f.read()\n",
        "  print(data)"
      ],
      "metadata": {
        "colab": {
          "base_uri": "https://localhost:8080/"
        },
        "id": "qltCj0QZ8hdT",
        "outputId": "df74d67a-6f7e-46eb-c99d-bfc675fd777d"
      },
      "execution_count": null,
      "outputs": [
        {
          "output_type": "stream",
          "name": "stdout",
          "text": [
            "This is the existing content of the file.\n"
          ]
        }
      ]
    },
    {
      "cell_type": "code",
      "source": [
        "#now let's write the file in append mode\n",
        "file = open(\"/content/file2.txt\",\"a\")\n",
        "file.write(\"This is the new content added just moment age in append mode.\")\n",
        "file.close()"
      ],
      "metadata": {
        "id": "7tbip5a19J1n"
      },
      "execution_count": null,
      "outputs": []
    },
    {
      "cell_type": "code",
      "source": [
        "file = open(\"/content/file2.txt\",\"r\")\n",
        "data= file.read()\n",
        "print(data)\n",
        "file.close()"
      ],
      "metadata": {
        "colab": {
          "base_uri": "https://localhost:8080/"
        },
        "id": "pB3EH7xM9b7M",
        "outputId": "0e479775-0810-4cfe-d481-623db1854cf0"
      },
      "execution_count": null,
      "outputs": [
        {
          "output_type": "stream",
          "name": "stdout",
          "text": [
            "This is the existing content of the file.This is the new content added just moment age in append mode.\n"
          ]
        }
      ]
    },
    {
      "cell_type": "markdown",
      "source": [
        "#**2.4 Python Modules:-**\n",
        "\n",
        "Modules referes to a file containing Python statements and definations.\n",
        "\n",
        "We do not also have to write Python code from scratch to accomplish certain task.Python is  having sevaral in-build modules that are already coded to perform some task and we can easlily used that modules to accomplish our task without us coding these functionality from scratch\n",
        "\n",
        "Let's see an examples below :-"
      ],
      "metadata": {
        "id": "0g7q00nn9sWE"
      }
    },
    {
      "cell_type": "code",
      "source": [
        "#Let's import statistick module\n",
        "import statistics as st\n",
        "dir(st)"
      ],
      "metadata": {
        "colab": {
          "base_uri": "https://localhost:8080/"
        },
        "id": "XoEWad14_AKs",
        "outputId": "fd1ff213-aa1f-4618-9987-4807ecf74275"
      },
      "execution_count": null,
      "outputs": [
        {
          "output_type": "execute_result",
          "data": {
            "text/plain": [
              "['Counter',\n",
              " 'Decimal',\n",
              " 'Fraction',\n",
              " 'NormalDist',\n",
              " 'StatisticsError',\n",
              " '__all__',\n",
              " '__builtins__',\n",
              " '__cached__',\n",
              " '__doc__',\n",
              " '__file__',\n",
              " '__loader__',\n",
              " '__name__',\n",
              " '__package__',\n",
              " '__spec__',\n",
              " '_coerce',\n",
              " '_convert',\n",
              " '_exact_ratio',\n",
              " '_fail_neg',\n",
              " '_find_lteq',\n",
              " '_find_rteq',\n",
              " '_isfinite',\n",
              " '_normal_dist_inv_cdf',\n",
              " '_ss',\n",
              " '_sum',\n",
              " 'bisect_left',\n",
              " 'bisect_right',\n",
              " 'erf',\n",
              " 'exp',\n",
              " 'fabs',\n",
              " 'fmean',\n",
              " 'fsum',\n",
              " 'geometric_mean',\n",
              " 'groupby',\n",
              " 'harmonic_mean',\n",
              " 'hypot',\n",
              " 'itemgetter',\n",
              " 'log',\n",
              " 'math',\n",
              " 'mean',\n",
              " 'median',\n",
              " 'median_grouped',\n",
              " 'median_high',\n",
              " 'median_low',\n",
              " 'mode',\n",
              " 'multimode',\n",
              " 'numbers',\n",
              " 'pstdev',\n",
              " 'pvariance',\n",
              " 'quantiles',\n",
              " 'random',\n",
              " 'sqrt',\n",
              " 'stdev',\n",
              " 'tau',\n",
              " 'variance']"
            ]
          },
          "metadata": {},
          "execution_count": 7
        }
      ]
    },
    {
      "cell_type": "markdown",
      "source": [
        "The listed above are the ib-built methods of the statistics module we just import it and use in out program to acompolish specific task."
      ],
      "metadata": {
        "id": "r--c8ZxtD5Q9"
      }
    },
    {
      "cell_type": "code",
      "source": [
        "#Let;'s import math module\n",
        "\n",
        "import math as m\n",
        "dir(m)"
      ],
      "metadata": {
        "colab": {
          "base_uri": "https://localhost:8080/"
        },
        "id": "Vj2w-uW7Eskt",
        "outputId": "4330561f-664d-4429-bfcc-bcdce9aaa25b"
      },
      "execution_count": null,
      "outputs": [
        {
          "output_type": "execute_result",
          "data": {
            "text/plain": [
              "['__doc__',\n",
              " '__loader__',\n",
              " '__name__',\n",
              " '__package__',\n",
              " '__spec__',\n",
              " 'acos',\n",
              " 'acosh',\n",
              " 'asin',\n",
              " 'asinh',\n",
              " 'atan',\n",
              " 'atan2',\n",
              " 'atanh',\n",
              " 'ceil',\n",
              " 'comb',\n",
              " 'copysign',\n",
              " 'cos',\n",
              " 'cosh',\n",
              " 'degrees',\n",
              " 'dist',\n",
              " 'e',\n",
              " 'erf',\n",
              " 'erfc',\n",
              " 'exp',\n",
              " 'expm1',\n",
              " 'fabs',\n",
              " 'factorial',\n",
              " 'floor',\n",
              " 'fmod',\n",
              " 'frexp',\n",
              " 'fsum',\n",
              " 'gamma',\n",
              " 'gcd',\n",
              " 'hypot',\n",
              " 'inf',\n",
              " 'isclose',\n",
              " 'isfinite',\n",
              " 'isinf',\n",
              " 'isnan',\n",
              " 'isqrt',\n",
              " 'ldexp',\n",
              " 'lgamma',\n",
              " 'log',\n",
              " 'log10',\n",
              " 'log1p',\n",
              " 'log2',\n",
              " 'modf',\n",
              " 'nan',\n",
              " 'perm',\n",
              " 'pi',\n",
              " 'pow',\n",
              " 'prod',\n",
              " 'radians',\n",
              " 'remainder',\n",
              " 'sin',\n",
              " 'sinh',\n",
              " 'sqrt',\n",
              " 'tan',\n",
              " 'tanh',\n",
              " 'tau',\n",
              " 'trunc']"
            ]
          },
          "metadata": {},
          "execution_count": 8
        }
      ]
    },
    {
      "cell_type": "code",
      "source": [
        "#calculating area of the circle\n",
        "r = int(input(\"Enter the radius of the circle :- \"))\n",
        "area = m.pi*m.pow(r,2)\n",
        "print(f\"The Area is : {round(area,3)}\")"
      ],
      "metadata": {
        "colab": {
          "base_uri": "https://localhost:8080/"
        },
        "id": "mBDLPFKQEyPZ",
        "outputId": "4b26dd71-e99c-420e-bdce-b531e4fe5b42"
      },
      "execution_count": null,
      "outputs": [
        {
          "output_type": "stream",
          "name": "stdout",
          "text": [
            "Enter the radius of the circle :- 12\n",
            "The Area is : 452.389\n"
          ]
        }
      ]
    },
    {
      "cell_type": "markdown",
      "source": [
        "##**2.2.1 Renaming the Module:-**\n",
        "\n",
        "If you want to aliash the module than use **as** to rename the module.\n",
        "\n",
        "Example:-"
      ],
      "metadata": {
        "id": "Ikv4BjdJFsht"
      }
    },
    {
      "cell_type": "code",
      "source": [
        "import matplotlib as mt\n",
        "dir(mt.pyplot)"
      ],
      "metadata": {
        "colab": {
          "base_uri": "https://localhost:8080/"
        },
        "id": "Siz5HbdBF-1H",
        "outputId": "289664f2-a590-4ba4-b6d3-08e613bcdc2d"
      },
      "execution_count": null,
      "outputs": [
        {
          "output_type": "execute_result",
          "data": {
            "text/plain": [
              "['Annotation',\n",
              " 'Arrow',\n",
              " 'Artist',\n",
              " 'AutoLocator',\n",
              " 'Axes',\n",
              " 'Button',\n",
              " 'Circle',\n",
              " 'Figure',\n",
              " 'FigureCanvasBase',\n",
              " 'FixedFormatter',\n",
              " 'FixedLocator',\n",
              " 'FormatStrFormatter',\n",
              " 'Formatter',\n",
              " 'FuncFormatter',\n",
              " 'GridSpec',\n",
              " 'IndexLocator',\n",
              " 'Line2D',\n",
              " 'LinearLocator',\n",
              " 'Locator',\n",
              " 'LogFormatter',\n",
              " 'LogFormatterExponent',\n",
              " 'LogFormatterMathtext',\n",
              " 'LogLocator',\n",
              " 'MaxNLocator',\n",
              " 'MultipleLocator',\n",
              " 'Normalize',\n",
              " 'NullFormatter',\n",
              " 'NullLocator',\n",
              " 'Number',\n",
              " 'PolarAxes',\n",
              " 'Polygon',\n",
              " 'Rectangle',\n",
              " 'ScalarFormatter',\n",
              " 'Slider',\n",
              " 'Subplot',\n",
              " 'SubplotTool',\n",
              " 'Text',\n",
              " 'TickHelper',\n",
              " 'Widget',\n",
              " '_INSTALL_FIG_OBSERVER',\n",
              " '_IP_REGISTERED',\n",
              " '__builtins__',\n",
              " '__cached__',\n",
              " '__doc__',\n",
              " '__file__',\n",
              " '__loader__',\n",
              " '__name__',\n",
              " '__package__',\n",
              " '__spec__',\n",
              " '_auto_draw_if_interactive',\n",
              " '_backend_mod',\n",
              " '_get_running_interactive_framework',\n",
              " '_interactive_bk',\n",
              " '_log',\n",
              " '_pylab_helpers',\n",
              " '_setp',\n",
              " '_setup_pyplot_info_docstrings',\n",
              " '_show',\n",
              " 'acorr',\n",
              " 'angle_spectrum',\n",
              " 'annotate',\n",
              " 'arrow',\n",
              " 'autoscale',\n",
              " 'autumn',\n",
              " 'axes',\n",
              " 'axhline',\n",
              " 'axhspan',\n",
              " 'axis',\n",
              " 'axvline',\n",
              " 'axvspan',\n",
              " 'bar',\n",
              " 'barbs',\n",
              " 'barh',\n",
              " 'bone',\n",
              " 'box',\n",
              " 'boxplot',\n",
              " 'broken_barh',\n",
              " 'cbook',\n",
              " 'cla',\n",
              " 'clabel',\n",
              " 'clf',\n",
              " 'clim',\n",
              " 'close',\n",
              " 'cm',\n",
              " 'cohere',\n",
              " 'colorbar',\n",
              " 'colormaps',\n",
              " 'connect',\n",
              " 'contour',\n",
              " 'contourf',\n",
              " 'cool',\n",
              " 'copper',\n",
              " 'csd',\n",
              " 'cycler',\n",
              " 'dedent',\n",
              " 'delaxes',\n",
              " 'deprecated',\n",
              " 'disconnect',\n",
              " 'docstring',\n",
              " 'draw',\n",
              " 'draw_all',\n",
              " 'draw_if_interactive',\n",
              " 'errorbar',\n",
              " 'eventplot',\n",
              " 'figaspect',\n",
              " 'figimage',\n",
              " 'figlegend',\n",
              " 'fignum_exists',\n",
              " 'figtext',\n",
              " 'figure',\n",
              " 'fill',\n",
              " 'fill_between',\n",
              " 'fill_betweenx',\n",
              " 'findobj',\n",
              " 'flag',\n",
              " 'functools',\n",
              " 'gca',\n",
              " 'gcf',\n",
              " 'gci',\n",
              " 'get',\n",
              " 'get_backend',\n",
              " 'get_cmap',\n",
              " 'get_current_fig_manager',\n",
              " 'get_figlabels',\n",
              " 'get_fignums',\n",
              " 'get_plot_commands',\n",
              " 'get_scale_docs',\n",
              " 'get_scale_names',\n",
              " 'getp',\n",
              " 'ginput',\n",
              " 'gray',\n",
              " 'grid',\n",
              " 'hexbin',\n",
              " 'hist',\n",
              " 'hist2d',\n",
              " 'hlines',\n",
              " 'hot',\n",
              " 'hsv',\n",
              " 'importlib',\n",
              " 'imread',\n",
              " 'imsave',\n",
              " 'imshow',\n",
              " 'inferno',\n",
              " 'inspect',\n",
              " 'install_repl_displayhook',\n",
              " 'interactive',\n",
              " 'ioff',\n",
              " 'ion',\n",
              " 'isinteractive',\n",
              " 'jet',\n",
              " 'legend',\n",
              " 'locator_params',\n",
              " 'logging',\n",
              " 'loglog',\n",
              " 'magma',\n",
              " 'magnitude_spectrum',\n",
              " 'margins',\n",
              " 'matplotlib',\n",
              " 'matshow',\n",
              " 'minorticks_off',\n",
              " 'minorticks_on',\n",
              " 'mlab',\n",
              " 'new_figure_manager',\n",
              " 'nipy_spectral',\n",
              " 'np',\n",
              " 'pause',\n",
              " 'pcolor',\n",
              " 'pcolormesh',\n",
              " 'phase_spectrum',\n",
              " 'pie',\n",
              " 'pink',\n",
              " 'plasma',\n",
              " 'plot',\n",
              " 'plot_date',\n",
              " 'plotfile',\n",
              " 'plotting',\n",
              " 'polar',\n",
              " 'prism',\n",
              " 'psd',\n",
              " 'quiver',\n",
              " 'quiverkey',\n",
              " 'rc',\n",
              " 'rcParams',\n",
              " 'rcParamsDefault',\n",
              " 'rcParamsOrig',\n",
              " 'rc_context',\n",
              " 'rcdefaults',\n",
              " 'rcsetup',\n",
              " 're',\n",
              " 'register_cmap',\n",
              " 'rgrids',\n",
              " 'savefig',\n",
              " 'sca',\n",
              " 'scatter',\n",
              " 'sci',\n",
              " 'semilogx',\n",
              " 'semilogy',\n",
              " 'set_cmap',\n",
              " 'set_loglevel',\n",
              " 'setp',\n",
              " 'show',\n",
              " 'silent_list',\n",
              " 'specgram',\n",
              " 'spring',\n",
              " 'spy',\n",
              " 'stackplot',\n",
              " 'stem',\n",
              " 'step',\n",
              " 'streamplot',\n",
              " 'style',\n",
              " 'subplot',\n",
              " 'subplot2grid',\n",
              " 'subplot_tool',\n",
              " 'subplots',\n",
              " 'subplots_adjust',\n",
              " 'summer',\n",
              " 'suptitle',\n",
              " 'switch_backend',\n",
              " 'sys',\n",
              " 'table',\n",
              " 'text',\n",
              " 'thetagrids',\n",
              " 'tick_params',\n",
              " 'ticklabel_format',\n",
              " 'tight_layout',\n",
              " 'time',\n",
              " 'title',\n",
              " 'tricontour',\n",
              " 'tricontourf',\n",
              " 'tripcolor',\n",
              " 'triplot',\n",
              " 'twinx',\n",
              " 'twiny',\n",
              " 'uninstall_repl_displayhook',\n",
              " 'violinplot',\n",
              " 'viridis',\n",
              " 'vlines',\n",
              " 'waitforbuttonpress',\n",
              " 'warn_deprecated',\n",
              " 'winter',\n",
              " 'xcorr',\n",
              " 'xkcd',\n",
              " 'xlabel',\n",
              " 'xlim',\n",
              " 'xscale',\n",
              " 'xticks',\n",
              " 'ylabel',\n",
              " 'ylim',\n",
              " 'yscale',\n",
              " 'yticks']"
            ]
          },
          "metadata": {},
          "execution_count": 20
        }
      ]
    },
    {
      "cell_type": "markdown",
      "source": [
        "##**2.2.2 from..import Statement :-**\n",
        "\n",
        "If you don't want to import the whole module and just import the fraction of the module then use the\n",
        "\n",
        "```from <name of module>import<name of specific submodule> ```statement.\n",
        "\n",
        "Example :-"
      ],
      "metadata": {
        "id": "NhsVVn4OGmjG"
      }
    },
    {
      "cell_type": "code",
      "source": [
        "from matplotlib import pyplot as plt"
      ],
      "metadata": {
        "id": "iQ5oZdJvHEpm"
      },
      "execution_count": null,
      "outputs": []
    },
    {
      "cell_type": "markdown",
      "source": [
        "#**2.5 Python Package(Libraries) :-**\n",
        "\n",
        "What if you want to put several module togethger?\n",
        "\n",
        "That's when **package** come in picture.\n",
        "\n",
        "A Package is basically a directory with Python files and file with name **init.py**, that means that every directory which contain a file named **init.py** will treated as package by Python, It's possible to put several module init.\n",
        "\n",
        "In short, a directory must contain a file named **init.py** in order for Python to consider it as Package.\n",
        "\n",
        "![structure-of-packages.webp](data:image/webp;base64,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)"
      ],
      "metadata": {
        "id": "SKB061qViF-f"
      }
    },
    {
      "cell_type": "code",
      "source": [
        "#demonstation of package\n",
        "\n",
        "import datetime \n",
        "print(datetime.date.today())"
      ],
      "metadata": {
        "colab": {
          "base_uri": "https://localhost:8080/"
        },
        "id": "MPI9rX-0m7qx",
        "outputId": "8aeaad00-67da-4f88-c19c-e7116d700daf"
      },
      "execution_count": null,
      "outputs": [
        {
          "output_type": "stream",
          "name": "stdout",
          "text": [
            "2023-01-28\n"
          ]
        }
      ]
    },
    {
      "cell_type": "code",
      "source": [
        "#insted of importing whole package we xcan import an module\n",
        "from datetime import date\n",
        "print(date.today())"
      ],
      "metadata": {
        "colab": {
          "base_uri": "https://localhost:8080/"
        },
        "id": "TCaVUQlBnFe6",
        "outputId": "e1000274-3700-4180-8cd9-7b6360410733"
      },
      "execution_count": null,
      "outputs": [
        {
          "output_type": "stream",
          "name": "stdout",
          "text": [
            "2023-01-28\n"
          ]
        }
      ]
    },
    {
      "cell_type": "markdown",
      "source": [
        "##**2.5.1 Example of Python Library :-**\n",
        "\n",
        "\n",
        "\n",
        "*   Numpy\n",
        "*   Pandas\n",
        "*   Matplotlib\n",
        "*   Seaborn\n",
        "*   SciPy\n",
        "*   Scikit-Learn\n",
        "*   Plotly\n",
        "*   Beautiful Soup\n",
        "*   Scrapy\n",
        "*   Selenium  etc.\n",
        "\n",
        "\n"
      ],
      "metadata": {
        "id": "fR_VfmJbnqT_"
      }
    },
    {
      "cell_type": "markdown",
      "source": [
        "#**2.6 Pip in Python :-**\n",
        "\n",
        "Pip is basically a recursive acronym which stands for 'Pip install Package'.\n",
        "\n",
        "pip is the package installer in Python. You can use pip to install packages from internet."
      ],
      "metadata": {
        "id": "MX38ktlSol--"
      }
    },
    {
      "cell_type": "code",
      "source": [
        "#installing the pip\n",
        "\n",
        "!pip install pip"
      ],
      "metadata": {
        "colab": {
          "base_uri": "https://localhost:8080/"
        },
        "id": "9uMfnrgvpvzm",
        "outputId": "1a48bbd0-2d4b-45d1-8e54-744a7ea71e57"
      },
      "execution_count": null,
      "outputs": [
        {
          "output_type": "stream",
          "name": "stdout",
          "text": [
            "Looking in indexes: https://pypi.org/simple, https://us-python.pkg.dev/colab-wheels/public/simple/\n",
            "Requirement already satisfied: pip in /usr/local/lib/python3.8/dist-packages (22.0.4)\n"
          ]
        }
      ]
    },
    {
      "cell_type": "code",
      "source": [
        "#It will give the version information of pip in computer.\n",
        "\n",
        "pip --version"
      ],
      "metadata": {
        "colab": {
          "base_uri": "https://localhost:8080/"
        },
        "id": "salgVPJSpzZT",
        "outputId": "33bd95d1-15e2-4ba4-e4d1-a03e8bea0ee8"
      },
      "execution_count": null,
      "outputs": [
        {
          "output_type": "stream",
          "name": "stdout",
          "text": [
            "pip 22.0.4 from /usr/local/lib/python3.8/dist-packages/pip (python 3.8)\n"
          ]
        }
      ]
    },
    {
      "cell_type": "markdown",
      "source": [
        "Now you can install any package using the **pip** command. "
      ],
      "metadata": {
        "id": "eM3cChV0qCQF"
      }
    },
    {
      "cell_type": "markdown",
      "source": [
        "##**2.6.1 Upgrading pip :-**\n",
        "\n"
      ],
      "metadata": {
        "id": "lrpITJ7LqNeH"
      }
    },
    {
      "cell_type": "code",
      "source": [
        "#unix/macos\n",
        "\n",
        "#python -m pip install -U python "
      ],
      "metadata": {
        "id": "834eUCKDqWTa"
      },
      "execution_count": null,
      "outputs": []
    },
    {
      "cell_type": "code",
      "source": [
        "#windows\n",
        "\n",
        "#py -m pip install -U pip"
      ],
      "metadata": {
        "id": "wdQjHUVMqu1x"
      },
      "execution_count": null,
      "outputs": []
    },
    {
      "cell_type": "markdown",
      "source": [
        "**Now let's install some package.**"
      ],
      "metadata": {
        "id": "i17Go0qGq_EO"
      }
    },
    {
      "cell_type": "code",
      "source": [
        "#pip install numpy"
      ],
      "metadata": {
        "colab": {
          "base_uri": "https://localhost:8080/"
        },
        "id": "cWk_nonBrCzS",
        "outputId": "5a6a7dab-1cf5-40ab-a6ea-bd3a9b9765b1"
      },
      "execution_count": null,
      "outputs": [
        {
          "output_type": "stream",
          "name": "stdout",
          "text": [
            "Looking in indexes: https://pypi.org/simple, https://us-python.pkg.dev/colab-wheels/public/simple/\n",
            "Requirement already satisfied: numpy in /usr/local/lib/python3.8/dist-packages (1.21.6)\n"
          ]
        }
      ]
    },
    {
      "cell_type": "markdown",
      "source": [
        "**You can now import some packages**"
      ],
      "metadata": {
        "id": "FeFIDqixrVDw"
      }
    },
    {
      "cell_type": "code",
      "source": [
        "import numpy as np"
      ],
      "metadata": {
        "id": "espnR7ZUrgKU"
      },
      "execution_count": null,
      "outputs": []
    },
    {
      "cell_type": "code",
      "source": [
        "dir(np)"
      ],
      "metadata": {
        "colab": {
          "base_uri": "https://localhost:8080/"
        },
        "id": "zeqSfaFYrhn9",
        "outputId": "adae5e65-7f7d-4fa4-cb21-230f3eb7a861"
      },
      "execution_count": null,
      "outputs": [
        {
          "output_type": "execute_result",
          "data": {
            "text/plain": [
              "['ALLOW_THREADS',\n",
              " 'AxisError',\n",
              " 'BUFSIZE',\n",
              " 'Bytes0',\n",
              " 'CLIP',\n",
              " 'ComplexWarning',\n",
              " 'DataSource',\n",
              " 'Datetime64',\n",
              " 'ERR_CALL',\n",
              " 'ERR_DEFAULT',\n",
              " 'ERR_IGNORE',\n",
              " 'ERR_LOG',\n",
              " 'ERR_PRINT',\n",
              " 'ERR_RAISE',\n",
              " 'ERR_WARN',\n",
              " 'FLOATING_POINT_SUPPORT',\n",
              " 'FPE_DIVIDEBYZERO',\n",
              " 'FPE_INVALID',\n",
              " 'FPE_OVERFLOW',\n",
              " 'FPE_UNDERFLOW',\n",
              " 'False_',\n",
              " 'Inf',\n",
              " 'Infinity',\n",
              " 'MAXDIMS',\n",
              " 'MAY_SHARE_BOUNDS',\n",
              " 'MAY_SHARE_EXACT',\n",
              " 'MachAr',\n",
              " 'ModuleDeprecationWarning',\n",
              " 'NAN',\n",
              " 'NINF',\n",
              " 'NZERO',\n",
              " 'NaN',\n",
              " 'PINF',\n",
              " 'PZERO',\n",
              " 'RAISE',\n",
              " 'RankWarning',\n",
              " 'SHIFT_DIVIDEBYZERO',\n",
              " 'SHIFT_INVALID',\n",
              " 'SHIFT_OVERFLOW',\n",
              " 'SHIFT_UNDERFLOW',\n",
              " 'ScalarType',\n",
              " 'Str0',\n",
              " 'Tester',\n",
              " 'TooHardError',\n",
              " 'True_',\n",
              " 'UFUNC_BUFSIZE_DEFAULT',\n",
              " 'UFUNC_PYVALS_NAME',\n",
              " 'Uint64',\n",
              " 'VisibleDeprecationWarning',\n",
              " 'WRAP',\n",
              " '_NoValue',\n",
              " '_UFUNC_API',\n",
              " '__NUMPY_SETUP__',\n",
              " '__all__',\n",
              " '__builtins__',\n",
              " '__cached__',\n",
              " '__config__',\n",
              " '__deprecated_attrs__',\n",
              " '__dir__',\n",
              " '__doc__',\n",
              " '__expired_functions__',\n",
              " '__file__',\n",
              " '__getattr__',\n",
              " '__git_version__',\n",
              " '__loader__',\n",
              " '__name__',\n",
              " '__package__',\n",
              " '__path__',\n",
              " '__spec__',\n",
              " '__version__',\n",
              " '_add_newdoc_ufunc',\n",
              " '_distributor_init',\n",
              " '_financial_names',\n",
              " '_globals',\n",
              " '_mat',\n",
              " '_pytesttester',\n",
              " '_version',\n",
              " 'abs',\n",
              " 'absolute',\n",
              " 'add',\n",
              " 'add_docstring',\n",
              " 'add_newdoc',\n",
              " 'add_newdoc_ufunc',\n",
              " 'alen',\n",
              " 'all',\n",
              " 'allclose',\n",
              " 'alltrue',\n",
              " 'amax',\n",
              " 'amin',\n",
              " 'angle',\n",
              " 'any',\n",
              " 'append',\n",
              " 'apply_along_axis',\n",
              " 'apply_over_axes',\n",
              " 'arange',\n",
              " 'arccos',\n",
              " 'arccosh',\n",
              " 'arcsin',\n",
              " 'arcsinh',\n",
              " 'arctan',\n",
              " 'arctan2',\n",
              " 'arctanh',\n",
              " 'argmax',\n",
              " 'argmin',\n",
              " 'argpartition',\n",
              " 'argsort',\n",
              " 'argwhere',\n",
              " 'around',\n",
              " 'array',\n",
              " 'array2string',\n",
              " 'array_equal',\n",
              " 'array_equiv',\n",
              " 'array_repr',\n",
              " 'array_split',\n",
              " 'array_str',\n",
              " 'asanyarray',\n",
              " 'asarray',\n",
              " 'asarray_chkfinite',\n",
              " 'ascontiguousarray',\n",
              " 'asfarray',\n",
              " 'asfortranarray',\n",
              " 'asmatrix',\n",
              " 'asscalar',\n",
              " 'atleast_1d',\n",
              " 'atleast_2d',\n",
              " 'atleast_3d',\n",
              " 'average',\n",
              " 'bartlett',\n",
              " 'base_repr',\n",
              " 'binary_repr',\n",
              " 'bincount',\n",
              " 'bitwise_and',\n",
              " 'bitwise_not',\n",
              " 'bitwise_or',\n",
              " 'bitwise_xor',\n",
              " 'blackman',\n",
              " 'block',\n",
              " 'bmat',\n",
              " 'bool8',\n",
              " 'bool_',\n",
              " 'broadcast',\n",
              " 'broadcast_arrays',\n",
              " 'broadcast_shapes',\n",
              " 'broadcast_to',\n",
              " 'busday_count',\n",
              " 'busday_offset',\n",
              " 'busdaycalendar',\n",
              " 'byte',\n",
              " 'byte_bounds',\n",
              " 'bytes0',\n",
              " 'bytes_',\n",
              " 'c_',\n",
              " 'can_cast',\n",
              " 'cast',\n",
              " 'cbrt',\n",
              " 'cdouble',\n",
              " 'ceil',\n",
              " 'cfloat',\n",
              " 'char',\n",
              " 'character',\n",
              " 'chararray',\n",
              " 'choose',\n",
              " 'clip',\n",
              " 'clongdouble',\n",
              " 'clongfloat',\n",
              " 'column_stack',\n",
              " 'common_type',\n",
              " 'compare_chararrays',\n",
              " 'compat',\n",
              " 'complex128',\n",
              " 'complex256',\n",
              " 'complex64',\n",
              " 'complex_',\n",
              " 'complexfloating',\n",
              " 'compress',\n",
              " 'concatenate',\n",
              " 'conj',\n",
              " 'conjugate',\n",
              " 'convolve',\n",
              " 'copy',\n",
              " 'copysign',\n",
              " 'copyto',\n",
              " 'core',\n",
              " 'corrcoef',\n",
              " 'correlate',\n",
              " 'cos',\n",
              " 'cosh',\n",
              " 'count_nonzero',\n",
              " 'cov',\n",
              " 'cross',\n",
              " 'csingle',\n",
              " 'ctypeslib',\n",
              " 'cumprod',\n",
              " 'cumproduct',\n",
              " 'cumsum',\n",
              " 'datetime64',\n",
              " 'datetime_as_string',\n",
              " 'datetime_data',\n",
              " 'deg2rad',\n",
              " 'degrees',\n",
              " 'delete',\n",
              " 'deprecate',\n",
              " 'deprecate_with_doc',\n",
              " 'diag',\n",
              " 'diag_indices',\n",
              " 'diag_indices_from',\n",
              " 'diagflat',\n",
              " 'diagonal',\n",
              " 'diff',\n",
              " 'digitize',\n",
              " 'disp',\n",
              " 'divide',\n",
              " 'divmod',\n",
              " 'dot',\n",
              " 'double',\n",
              " 'dsplit',\n",
              " 'dstack',\n",
              " 'dtype',\n",
              " 'e',\n",
              " 'ediff1d',\n",
              " 'einsum',\n",
              " 'einsum_path',\n",
              " 'emath',\n",
              " 'empty',\n",
              " 'empty_like',\n",
              " 'equal',\n",
              " 'errstate',\n",
              " 'euler_gamma',\n",
              " 'exp',\n",
              " 'exp2',\n",
              " 'expand_dims',\n",
              " 'expm1',\n",
              " 'extract',\n",
              " 'eye',\n",
              " 'fabs',\n",
              " 'fastCopyAndTranspose',\n",
              " 'fft',\n",
              " 'fill_diagonal',\n",
              " 'find_common_type',\n",
              " 'finfo',\n",
              " 'fix',\n",
              " 'flatiter',\n",
              " 'flatnonzero',\n",
              " 'flexible',\n",
              " 'flip',\n",
              " 'fliplr',\n",
              " 'flipud',\n",
              " 'float128',\n",
              " 'float16',\n",
              " 'float32',\n",
              " 'float64',\n",
              " 'float_',\n",
              " 'float_power',\n",
              " 'floating',\n",
              " 'floor',\n",
              " 'floor_divide',\n",
              " 'fmax',\n",
              " 'fmin',\n",
              " 'fmod',\n",
              " 'format_float_positional',\n",
              " 'format_float_scientific',\n",
              " 'format_parser',\n",
              " 'frexp',\n",
              " 'frombuffer',\n",
              " 'fromfile',\n",
              " 'fromfunction',\n",
              " 'fromiter',\n",
              " 'frompyfunc',\n",
              " 'fromregex',\n",
              " 'fromstring',\n",
              " 'full',\n",
              " 'full_like',\n",
              " 'gcd',\n",
              " 'generic',\n",
              " 'genfromtxt',\n",
              " 'geomspace',\n",
              " 'get_array_wrap',\n",
              " 'get_include',\n",
              " 'get_printoptions',\n",
              " 'getbufsize',\n",
              " 'geterr',\n",
              " 'geterrcall',\n",
              " 'geterrobj',\n",
              " 'gradient',\n",
              " 'greater',\n",
              " 'greater_equal',\n",
              " 'half',\n",
              " 'hamming',\n",
              " 'hanning',\n",
              " 'heaviside',\n",
              " 'histogram',\n",
              " 'histogram2d',\n",
              " 'histogram_bin_edges',\n",
              " 'histogramdd',\n",
              " 'hsplit',\n",
              " 'hstack',\n",
              " 'hypot',\n",
              " 'i0',\n",
              " 'identity',\n",
              " 'iinfo',\n",
              " 'imag',\n",
              " 'in1d',\n",
              " 'index_exp',\n",
              " 'indices',\n",
              " 'inexact',\n",
              " 'inf',\n",
              " 'info',\n",
              " 'infty',\n",
              " 'inner',\n",
              " 'insert',\n",
              " 'int0',\n",
              " 'int16',\n",
              " 'int32',\n",
              " 'int64',\n",
              " 'int8',\n",
              " 'int_',\n",
              " 'intc',\n",
              " 'integer',\n",
              " 'interp',\n",
              " 'intersect1d',\n",
              " 'intp',\n",
              " 'invert',\n",
              " 'is_busday',\n",
              " 'isclose',\n",
              " 'iscomplex',\n",
              " 'iscomplexobj',\n",
              " 'isfinite',\n",
              " 'isfortran',\n",
              " 'isin',\n",
              " 'isinf',\n",
              " 'isnan',\n",
              " 'isnat',\n",
              " 'isneginf',\n",
              " 'isposinf',\n",
              " 'isreal',\n",
              " 'isrealobj',\n",
              " 'isscalar',\n",
              " 'issctype',\n",
              " 'issubclass_',\n",
              " 'issubdtype',\n",
              " 'issubsctype',\n",
              " 'iterable',\n",
              " 'ix_',\n",
              " 'kaiser',\n",
              " 'kernel_version',\n",
              " 'kron',\n",
              " 'lcm',\n",
              " 'ldexp',\n",
              " 'left_shift',\n",
              " 'less',\n",
              " 'less_equal',\n",
              " 'lexsort',\n",
              " 'lib',\n",
              " 'linalg',\n",
              " 'linspace',\n",
              " 'little_endian',\n",
              " 'load',\n",
              " 'loads',\n",
              " 'loadtxt',\n",
              " 'log',\n",
              " 'log10',\n",
              " 'log1p',\n",
              " 'log2',\n",
              " 'logaddexp',\n",
              " 'logaddexp2',\n",
              " 'logical_and',\n",
              " 'logical_not',\n",
              " 'logical_or',\n",
              " 'logical_xor',\n",
              " 'logspace',\n",
              " 'longcomplex',\n",
              " 'longdouble',\n",
              " 'longfloat',\n",
              " 'longlong',\n",
              " 'lookfor',\n",
              " 'ma',\n",
              " 'mafromtxt',\n",
              " 'mask_indices',\n",
              " 'mat',\n",
              " 'math',\n",
              " 'matmul',\n",
              " 'matrix',\n",
              " 'matrixlib',\n",
              " 'max',\n",
              " 'maximum',\n",
              " 'maximum_sctype',\n",
              " 'may_share_memory',\n",
              " 'mean',\n",
              " 'median',\n",
              " 'memmap',\n",
              " 'meshgrid',\n",
              " 'mgrid',\n",
              " 'min',\n",
              " 'min_scalar_type',\n",
              " 'minimum',\n",
              " 'mintypecode',\n",
              " 'mod',\n",
              " 'modf',\n",
              " 'moveaxis',\n",
              " 'msort',\n",
              " 'multiply',\n",
              " 'nan',\n",
              " 'nan_to_num',\n",
              " 'nanargmax',\n",
              " 'nanargmin',\n",
              " 'nancumprod',\n",
              " 'nancumsum',\n",
              " 'nanmax',\n",
              " 'nanmean',\n",
              " 'nanmedian',\n",
              " 'nanmin',\n",
              " 'nanpercentile',\n",
              " 'nanprod',\n",
              " 'nanquantile',\n",
              " 'nanstd',\n",
              " 'nansum',\n",
              " 'nanvar',\n",
              " 'nbytes',\n",
              " 'ndarray',\n",
              " 'ndenumerate',\n",
              " 'ndfromtxt',\n",
              " 'ndim',\n",
              " 'ndindex',\n",
              " 'nditer',\n",
              " 'negative',\n",
              " 'nested_iters',\n",
              " 'newaxis',\n",
              " 'nextafter',\n",
              " 'nonzero',\n",
              " 'not_equal',\n",
              " 'numarray',\n",
              " 'number',\n",
              " 'obj2sctype',\n",
              " 'object0',\n",
              " 'object_',\n",
              " 'ogrid',\n",
              " 'oldnumeric',\n",
              " 'ones',\n",
              " 'ones_like',\n",
              " 'os',\n",
              " 'outer',\n",
              " 'packbits',\n",
              " 'pad',\n",
              " 'partition',\n",
              " 'percentile',\n",
              " 'pi',\n",
              " 'piecewise',\n",
              " 'place',\n",
              " 'poly',\n",
              " 'poly1d',\n",
              " 'polyadd',\n",
              " 'polyder',\n",
              " 'polydiv',\n",
              " 'polyfit',\n",
              " 'polyint',\n",
              " 'polymul',\n",
              " 'polynomial',\n",
              " 'polysub',\n",
              " 'polyval',\n",
              " 'positive',\n",
              " 'power',\n",
              " 'printoptions',\n",
              " 'prod',\n",
              " 'product',\n",
              " 'promote_types',\n",
              " 'ptp',\n",
              " 'put',\n",
              " 'put_along_axis',\n",
              " 'putmask',\n",
              " 'quantile',\n",
              " 'r_',\n",
              " 'rad2deg',\n",
              " 'radians',\n",
              " 'random',\n",
              " 'ravel',\n",
              " 'ravel_multi_index',\n",
              " 'real',\n",
              " 'real_if_close',\n",
              " 'rec',\n",
              " 'recarray',\n",
              " 'recfromcsv',\n",
              " 'recfromtxt',\n",
              " 'reciprocal',\n",
              " 'record',\n",
              " 'remainder',\n",
              " 'repeat',\n",
              " 'require',\n",
              " 'reshape',\n",
              " 'resize',\n",
              " 'result_type',\n",
              " 'right_shift',\n",
              " 'rint',\n",
              " 'roll',\n",
              " 'rollaxis',\n",
              " 'roots',\n",
              " 'rot90',\n",
              " 'round',\n",
              " 'round_',\n",
              " 'row_stack',\n",
              " 's_',\n",
              " 'safe_eval',\n",
              " 'save',\n",
              " 'savetxt',\n",
              " 'savez',\n",
              " 'savez_compressed',\n",
              " 'sctype2char',\n",
              " 'sctypeDict',\n",
              " 'sctypes',\n",
              " 'searchsorted',\n",
              " 'select',\n",
              " 'set_numeric_ops',\n",
              " 'set_printoptions',\n",
              " 'set_string_function',\n",
              " 'setbufsize',\n",
              " 'setdiff1d',\n",
              " 'seterr',\n",
              " 'seterrcall',\n",
              " 'seterrobj',\n",
              " 'setxor1d',\n",
              " 'shape',\n",
              " 'shares_memory',\n",
              " 'short',\n",
              " 'show_config',\n",
              " 'sign',\n",
              " 'signbit',\n",
              " 'signedinteger',\n",
              " 'sin',\n",
              " 'sinc',\n",
              " 'single',\n",
              " 'singlecomplex',\n",
              " 'sinh',\n",
              " 'size',\n",
              " 'sometrue',\n",
              " 'sort',\n",
              " 'sort_complex',\n",
              " 'source',\n",
              " 'spacing',\n",
              " 'split',\n",
              " 'sqrt',\n",
              " 'square',\n",
              " 'squeeze',\n",
              " 'stack',\n",
              " 'std',\n",
              " 'str0',\n",
              " 'str_',\n",
              " 'string_',\n",
              " 'subtract',\n",
              " 'sum',\n",
              " 'swapaxes',\n",
              " 'sys',\n",
              " 'take',\n",
              " 'take_along_axis',\n",
              " 'tan',\n",
              " 'tanh',\n",
              " 'tensordot',\n",
              " 'test',\n",
              " 'testing',\n",
              " 'tile',\n",
              " 'timedelta64',\n",
              " 'trace',\n",
              " 'tracemalloc_domain',\n",
              " 'transpose',\n",
              " 'trapz',\n",
              " 'tri',\n",
              " 'tril',\n",
              " 'tril_indices',\n",
              " 'tril_indices_from',\n",
              " 'trim_zeros',\n",
              " 'triu',\n",
              " 'triu_indices',\n",
              " 'triu_indices_from',\n",
              " 'true_divide',\n",
              " 'trunc',\n",
              " 'typecodes',\n",
              " 'typename',\n",
              " 'ubyte',\n",
              " 'ufunc',\n",
              " 'uint',\n",
              " 'uint0',\n",
              " 'uint16',\n",
              " 'uint32',\n",
              " 'uint64',\n",
              " 'uint8',\n",
              " 'uintc',\n",
              " 'uintp',\n",
              " 'ulonglong',\n",
              " 'unicode_',\n",
              " 'union1d',\n",
              " 'unique',\n",
              " 'unpackbits',\n",
              " 'unravel_index',\n",
              " 'unsignedinteger',\n",
              " 'unwrap',\n",
              " 'use_hugepage',\n",
              " 'ushort',\n",
              " 'vander',\n",
              " 'var',\n",
              " 'vdot',\n",
              " 'vectorize',\n",
              " 'version',\n",
              " 'void',\n",
              " 'void0',\n",
              " 'vsplit',\n",
              " 'vstack',\n",
              " 'warnings',\n",
              " 'where',\n",
              " 'who',\n",
              " 'zeros',\n",
              " 'zeros_like']"
            ]
          },
          "metadata": {},
          "execution_count": 11
        }
      ]
    },
    {
      "cell_type": "code",
      "source": [
        "np.zeros(8)"
      ],
      "metadata": {
        "colab": {
          "base_uri": "https://localhost:8080/"
        },
        "id": "sQ17lAFHrlgd",
        "outputId": "7b8e9b99-65eb-4a54-ceb4-ffc1a87a2af8"
      },
      "execution_count": null,
      "outputs": [
        {
          "output_type": "execute_result",
          "data": {
            "text/plain": [
              "array([0., 0., 0., 0., 0., 0., 0., 0.])"
            ]
          },
          "metadata": {},
          "execution_count": 12
        }
      ]
    },
    {
      "cell_type": "code",
      "source": [
        "arr = [15,25,15,23,68,10,10,63]\n",
        "np.unique(arr)"
      ],
      "metadata": {
        "colab": {
          "base_uri": "https://localhost:8080/"
        },
        "id": "owbnR6ofsVuB",
        "outputId": "e7a4efa4-1e56-4c45-84d6-61e09e2f8f3a"
      },
      "execution_count": null,
      "outputs": [
        {
          "output_type": "execute_result",
          "data": {
            "text/plain": [
              "array([10, 15, 23, 25, 63, 68])"
            ]
          },
          "metadata": {},
          "execution_count": 14
        }
      ]
    },
    {
      "cell_type": "markdown",
      "source": [
        "#**2.7 Data type in Python:-**\n",
        "\n",
        "There are various data types in Python.We will consider some of the important regularly used data types."
      ],
      "metadata": {
        "id": "C-rKNfQzs4v3"
      }
    },
    {
      "cell_type": "markdown",
      "source": [
        "##**2.7.1 Python Data :-**\n",
        "\n",
        "The **Python Data** catagory consist of :-\n",
        "\n",
        "1.   Integers (int)\n",
        "2.   Floating point numbers(float)\n",
        "3.   complex Numbers\n",
        "4.   String(str)\n",
        "5.   List\n",
        "6.   Tuple\n",
        "7.   Dictionary\n",
        "8.   Set\n",
        "\n",
        "\n",
        "\n",
        "\n",
        "\n",
        "\n",
        "\n",
        "\n",
        "\n",
        "\n",
        "\n",
        "\n"
      ],
      "metadata": {
        "id": "O-CxUPzVtj-6"
      }
    },
    {
      "cell_type": "markdown",
      "source": [
        "###**2.7.1.(i) Integer :-**\n",
        "\n",
        "Int, or integer, is a whole number, positive or negative, without decimals, of unlimited length."
      ],
      "metadata": {
        "id": "0y8f4oudxrAa"
      }
    },
    {
      "cell_type": "code",
      "source": [
        "num = 10\n",
        "print(type(num))"
      ],
      "metadata": {
        "colab": {
          "base_uri": "https://localhost:8080/"
        },
        "id": "C_tPVQDAxwsS",
        "outputId": "a5734a72-1985-4fcc-81a6-b9f9fe2e80eb"
      },
      "execution_count": null,
      "outputs": [
        {
          "output_type": "stream",
          "name": "stdout",
          "text": [
            "<class 'int'>\n"
          ]
        }
      ]
    },
    {
      "cell_type": "markdown",
      "source": [
        "###**2.7.1.(ii) Floats :-**\n",
        "\n",
        "The float type in Python represents the floating point number. Float is used to represent real numbers and is written with a decimal point dividing the integer and fractional parts. For example, 97.98.\n",
        "\n",
        "Python float values are represented as 64-bit double-precision values. The maximum value any floating-point number can be is approx 1.8 x 10^308. Any number greater than this will be indicated by the string inf in Python.\n",
        "\n"
      ],
      "metadata": {
        "id": "igPcR-GSx6Wb"
      }
    },
    {
      "cell_type": "code",
      "source": [
        "num1 = 10.56\n",
        "print(type(num1))"
      ],
      "metadata": {
        "colab": {
          "base_uri": "https://localhost:8080/"
        },
        "id": "o83f6cWlxzuu",
        "outputId": "8e16931f-bc00-4106-82f6-b9399928b77a"
      },
      "execution_count": null,
      "outputs": [
        {
          "output_type": "stream",
          "name": "stdout",
          "text": [
            "<class 'float'>\n"
          ]
        }
      ]
    },
    {
      "cell_type": "code",
      "source": [
        "print(type(11.5+5.5))"
      ],
      "metadata": {
        "colab": {
          "base_uri": "https://localhost:8080/"
        },
        "id": "3rXf7xg4yC2x",
        "outputId": "4edd0338-2611-4ed8-d7d5-f7c61075b435"
      },
      "execution_count": null,
      "outputs": [
        {
          "output_type": "stream",
          "name": "stdout",
          "text": [
            "<class 'float'>\n"
          ]
        }
      ]
    },
    {
      "cell_type": "markdown",
      "source": [
        "###**2.7.1.(iii) Complex :-**\n",
        "\n",
        "Comlex Number are contain two parts , the real number and imaginary number, in the maths complex number are referd as \n",
        "\n",
        "complex number = 10+ 3i\n",
        "\n",
        "But in Python, the imaginary part is refers as **10+3j**"
      ],
      "metadata": {
        "id": "dJvzJMPwypqH"
      }
    },
    {
      "cell_type": "code",
      "source": [
        "complex = 10+ 3j\n",
        "print(type(complex))"
      ],
      "metadata": {
        "colab": {
          "base_uri": "https://localhost:8080/"
        },
        "id": "48I1thceyLaj",
        "outputId": "6eb6e125-8d0d-4815-a2eb-54c62e1365f4"
      },
      "execution_count": null,
      "outputs": [
        {
          "output_type": "stream",
          "name": "stdout",
          "text": [
            "<class 'complex'>\n"
          ]
        }
      ]
    },
    {
      "cell_type": "markdown",
      "source": [
        "###**2.7.1.(iv) String :-**\n",
        "\n",
        "In Python the string are mutable data that means you can't change the string once you declare it.\n",
        "\n",
        "Strings in Python are identified as a contiguous set of characters represented in the quotation marks. Python allows for either pairs of single or double quotes. Subsets of strings can be taken using the slice operator ([ ] and [:] ) with indexes starting at 0 in the beginning of the string and working their way from -1 at the end.\n",
        "\n"
      ],
      "metadata": {
        "id": "EV_RDYCLzlKK"
      }
    },
    {
      "cell_type": "code",
      "source": [
        "data ='We are learning Python Data types.'\n",
        "print(type(data))"
      ],
      "metadata": {
        "colab": {
          "base_uri": "https://localhost:8080/"
        },
        "id": "6uwx5pjA0UZY",
        "outputId": "37782b51-9560-450e-fe40-cc352cc0b09c"
      },
      "execution_count": null,
      "outputs": [
        {
          "output_type": "stream",
          "name": "stdout",
          "text": [
            "<class 'str'>\n"
          ]
        }
      ]
    },
    {
      "cell_type": "markdown",
      "source": [
        "###**2.7.1.(v) None:-**\n",
        "\n",
        "The None keyword is used to define a null value, or no value at all. None is not the same as 0, False, or an empty string. None is a data type of its own (NoneType) and only None can be None."
      ],
      "metadata": {
        "id": "8T2nTqwZ3kgD"
      }
    },
    {
      "cell_type": "code",
      "source": [
        "a =None\n",
        "print(type(a))"
      ],
      "metadata": {
        "colab": {
          "base_uri": "https://localhost:8080/"
        },
        "id": "MOQeHESz3rsd",
        "outputId": "63eaa113-8fed-4bcc-b953-efecb829f088"
      },
      "execution_count": null,
      "outputs": [
        {
          "output_type": "stream",
          "name": "stdout",
          "text": [
            "<class 'NoneType'>\n"
          ]
        }
      ]
    },
    {
      "cell_type": "markdown",
      "source": [
        "##**2.7.2 Python Data Structure :-**\n",
        "\n",
        "In the Python there are main four data structure,\n",
        "\n",
        "\n",
        "1.   List\n",
        "2.   Tuple\n",
        "3.   Set\n",
        "4.   Dictionary\n",
        "\n"
      ],
      "metadata": {
        "id": "My8gf_Vd3xJk"
      }
    },
    {
      "cell_type": "markdown",
      "source": [
        "###**2.7.2.(i) List :-**\n",
        "\n",
        "\n",
        "Lists are used to store multiple items in a single variable.\n",
        "\n",
        "Lists are one of 4 built-in data types in Python used to store collections of data, the other 3 are Tuple, Set, and Dictionary, all with different qualities and usage.\n",
        "\n",
        "Lists are created using square brackets [ ]\n",
        "\n",
        "**NB : List are ordered and mutable.**"
      ],
      "metadata": {
        "id": "_NXQsjNS0ixQ"
      }
    },
    {
      "cell_type": "code",
      "source": [
        "myList = [15,\"Mihir\",\"cars\",\"data sciences\"]\n",
        "\n",
        "print(type(myList))\n",
        "\n",
        "#accessing the element of list\n",
        "print(myList[2])"
      ],
      "metadata": {
        "colab": {
          "base_uri": "https://localhost:8080/"
        },
        "id": "9SzkY6lk17Rj",
        "outputId": "0f2c2abb-b1ff-4823-888c-9699723b33e3"
      },
      "execution_count": null,
      "outputs": [
        {
          "output_type": "stream",
          "name": "stdout",
          "text": [
            "<class 'list'>\n",
            "cars\n"
          ]
        }
      ]
    },
    {
      "cell_type": "code",
      "source": [
        "#list are mutable therefore there is no error.\n",
        "myList[0]=\"patel\"\n",
        "print(myList)"
      ],
      "metadata": {
        "colab": {
          "base_uri": "https://localhost:8080/"
        },
        "id": "NrSWHUhn8fKu",
        "outputId": "a0820148-e20e-4848-e06d-0e3699594263"
      },
      "execution_count": null,
      "outputs": [
        {
          "output_type": "stream",
          "name": "stdout",
          "text": [
            "['patel', 'Mihir', 'cars', 'data sciences']\n"
          ]
        }
      ]
    },
    {
      "cell_type": "markdown",
      "source": [
        "###**2.7.2.(ii) Tuple :-**\n",
        "\n",
        "Python Tuple is a collection of objects separated by commas. In some ways, a tuple is similar to a list in terms of indexing, nested objects, and repetition but a tuple is **immutable**, unlike lists which are mutable.\n",
        "\n",
        "To create a tuple we will use **parenthisis** i.e. () operators."
      ],
      "metadata": {
        "id": "2Djshx1q2yBQ"
      }
    },
    {
      "cell_type": "code",
      "source": [
        "myTuple = (15,\"Mihir\",\"cars\",\"data sciences\")\n",
        "\n",
        "print(type(myTuple))"
      ],
      "metadata": {
        "colab": {
          "base_uri": "https://localhost:8080/"
        },
        "id": "ihp771TT7i7l",
        "outputId": "7723d922-5197-4f16-9ea4-c9212577e365"
      },
      "execution_count": null,
      "outputs": [
        {
          "output_type": "stream",
          "name": "stdout",
          "text": [
            "<class 'tuple'>\n"
          ]
        }
      ]
    },
    {
      "cell_type": "markdown",
      "source": [
        "**NB : Tuple are immutable.**"
      ],
      "metadata": {
        "id": "so8gZMvz8QwD"
      }
    },
    {
      "cell_type": "code",
      "source": [
        "#this will get an error\n",
        "myTuple[0]=\"patel\""
      ],
      "metadata": {
        "colab": {
          "base_uri": "https://localhost:8080/",
          "height": 182
        },
        "id": "y_60RrkV8Utx",
        "outputId": "fa3c666e-1079-4589-ccaa-ac74b5cf4477"
      },
      "execution_count": null,
      "outputs": [
        {
          "output_type": "error",
          "ename": "TypeError",
          "evalue": "ignored",
          "traceback": [
            "\u001b[0;31m---------------------------------------------------------------------------\u001b[0m",
            "\u001b[0;31mTypeError\u001b[0m                                 Traceback (most recent call last)",
            "\u001b[0;32m<ipython-input-25-68fa4afb82a7>\u001b[0m in \u001b[0;36m<module>\u001b[0;34m\u001b[0m\n\u001b[1;32m      1\u001b[0m \u001b[0;31m#this will get an error\u001b[0m\u001b[0;34m\u001b[0m\u001b[0;34m\u001b[0m\u001b[0;34m\u001b[0m\u001b[0m\n\u001b[0;32m----> 2\u001b[0;31m \u001b[0mmyTuple\u001b[0m\u001b[0;34m[\u001b[0m\u001b[0;36m0\u001b[0m\u001b[0;34m]\u001b[0m\u001b[0;34m=\u001b[0m\u001b[0;34m\"patel\"\u001b[0m\u001b[0;34m\u001b[0m\u001b[0;34m\u001b[0m\u001b[0m\n\u001b[0m",
            "\u001b[0;31mTypeError\u001b[0m: 'tuple' object does not support item assignment"
          ]
        }
      ]
    },
    {
      "cell_type": "markdown",
      "source": [
        "###**2.7.3.(iii) Set :-**\n",
        "\n",
        "A Set is an **unordered** collection data type that is iterable, **mutable**, and has **no duplicate** elements. "
      ],
      "metadata": {
        "id": "B61vbYLkHJGV"
      }
    },
    {
      "cell_type": "code",
      "source": [
        "mySet ={15,2,3,15,10,2,25,42}\n",
        "print(mySet)\n",
        "print(type(mySet))"
      ],
      "metadata": {
        "colab": {
          "base_uri": "https://localhost:8080/"
        },
        "id": "ClQsJV2gHr_j",
        "outputId": "cc67fee6-0cd4-4b5d-afba-020e401f6df5"
      },
      "execution_count": null,
      "outputs": [
        {
          "output_type": "stream",
          "name": "stdout",
          "text": [
            "{2, 3, 10, 42, 15, 25}\n",
            "<class 'set'>\n"
          ]
        }
      ]
    },
    {
      "cell_type": "markdown",
      "source": [
        "###**2.7.2.(iv) Dictionary :-**\n",
        "\n",
        "Dictionary in Python is a collection of keys values, used to store data values like a map, which, unlike other data types which hold only a single value as an element.\n",
        "\n",
        "Dictionary holds **key:value pair**. Key-Value is provided in the dictionary to make it more optimized. "
      ],
      "metadata": {
        "id": "hFHzuKK_IBfO"
      }
    },
    {
      "cell_type": "code",
      "source": [
        "myDic ={1:\"Alex\",\n",
        "        2:\"John\",\n",
        "        3:\"Mercy\"}\n",
        "\n",
        "print(myDic.keys())\n",
        "\n",
        "print(myDic.values())\n",
        "\n",
        "print(myDic)\n",
        "\n",
        "print(type(myDic))\n"
      ],
      "metadata": {
        "colab": {
          "base_uri": "https://localhost:8080/"
        },
        "id": "0v13RRN2IWdb",
        "outputId": "9761984e-cf1b-4ffd-81b4-6014b34ddede"
      },
      "execution_count": null,
      "outputs": [
        {
          "output_type": "stream",
          "name": "stdout",
          "text": [
            "dict_keys([1, 2, 3])\n",
            "dict_values(['Alex', 'John', 'Mercy'])\n",
            "{1: 'Alex', 2: 'John', 3: 'Mercy'}\n",
            "<class 'dict'>\n"
          ]
        }
      ]
    },
    {
      "cell_type": "markdown",
      "source": [
        "#**2.8 List In Details :-**\n",
        "\n",
        "List is an ordered sequence of items.\n",
        "\n",
        "They are most used data structure in Python.\n",
        "\n",
        "All the iteam in List do not need to be of same data type.\n",
        "\n",
        "Example :-"
      ],
      "metadata": {
        "id": "qYxLJfikSGi9"
      }
    },
    {
      "cell_type": "code",
      "source": [
        "#create a list \n",
        "\n",
        "int_list = [15,25,15,100,52,36] #list contain integer data items\n",
        "\n",
        "str_list = ['I am','Mihir','Patel','Computer Engineering'] #list contain str data items\n",
        "\n",
        "int_and_str_list = [15,100,'Mihir',100.23,'Patel'] #list contain integer, float and str data items\n",
        "\n",
        "print(int_list)\n",
        "\n",
        "print(str_list)\n",
        "\n",
        "print(int_and_str_list)"
      ],
      "metadata": {
        "colab": {
          "base_uri": "https://localhost:8080/"
        },
        "id": "yE_rkGmOTZ1B",
        "outputId": "38e87688-6e8d-489e-b25d-00c70af0691b"
      },
      "execution_count": null,
      "outputs": [
        {
          "output_type": "stream",
          "name": "stdout",
          "text": [
            "[15, 25, 15, 100, 52, 36]\n",
            "['I am', 'Mihir', 'Patel', 'Computer Engineering']\n",
            "[15, 100, 'Mihir', 100.23, 'Patel']\n"
          ]
        }
      ]
    },
    {
      "cell_type": "code",
      "source": [
        "print(type(int_list))\n",
        "print(type(str_list))\n",
        "print(type(int_and_str_list))"
      ],
      "metadata": {
        "colab": {
          "base_uri": "https://localhost:8080/"
        },
        "id": "Yl8n8UAVT5rQ",
        "outputId": "3d0bcb37-ad4f-4f6d-842b-3046abc29e37"
      },
      "execution_count": null,
      "outputs": [
        {
          "output_type": "stream",
          "name": "stdout",
          "text": [
            "<class 'list'>\n",
            "<class 'list'>\n",
            "<class 'list'>\n"
          ]
        }
      ]
    },
    {
      "cell_type": "markdown",
      "source": [
        "**Convertion from one data type to another data type**"
      ],
      "metadata": {
        "id": "ggPamlPeUwDV"
      }
    },
    {
      "cell_type": "code",
      "source": [
        "a = 20 #here a is integer"
      ],
      "metadata": {
        "id": "vuvemZA6UZqu"
      },
      "execution_count": null,
      "outputs": []
    },
    {
      "cell_type": "code",
      "source": [
        "float(a) #it will conver the data type from interger to float"
      ],
      "metadata": {
        "colab": {
          "base_uri": "https://localhost:8080/"
        },
        "id": "0EOOK__RVI3U",
        "outputId": "43b96bbd-f00f-4d40-8602-3c52b65288d0"
      },
      "execution_count": null,
      "outputs": [
        {
          "output_type": "execute_result",
          "data": {
            "text/plain": [
              "20.0"
            ]
          },
          "metadata": {},
          "execution_count": 7
        }
      ]
    },
    {
      "cell_type": "code",
      "source": [
        "b = 200.354 #here b is float"
      ],
      "metadata": {
        "id": "_0sHmcySVKQz"
      },
      "execution_count": null,
      "outputs": []
    },
    {
      "cell_type": "code",
      "source": [
        "int(b) #It will convert the data type from float to integer"
      ],
      "metadata": {
        "colab": {
          "base_uri": "https://localhost:8080/"
        },
        "id": "IZywWyMmVVd2",
        "outputId": "2897f13c-9937-480c-b869-93cead255af3"
      },
      "execution_count": null,
      "outputs": [
        {
          "output_type": "execute_result",
          "data": {
            "text/plain": [
              "200"
            ]
          },
          "metadata": {},
          "execution_count": 9
        }
      ]
    },
    {
      "cell_type": "code",
      "source": [
        "#converting integer to str\n",
        "\n",
        "str(a)"
      ],
      "metadata": {
        "colab": {
          "base_uri": "https://localhost:8080/",
          "height": 36
        },
        "id": "Paxe3OEmVbdt",
        "outputId": "2a37c02a-ddca-453c-c19e-ae757feef47f"
      },
      "execution_count": null,
      "outputs": [
        {
          "output_type": "execute_result",
          "data": {
            "text/plain": [
              "'20'"
            ],
            "application/vnd.google.colaboratory.intrinsic+json": {
              "type": "string"
            }
          },
          "metadata": {},
          "execution_count": 11
        }
      ]
    },
    {
      "cell_type": "code",
      "source": [
        "data = 'I am Mihir Patel'\n",
        "int(data)"
      ],
      "metadata": {
        "colab": {
          "base_uri": "https://localhost:8080/",
          "height": 182
        },
        "id": "zc6FhYlFVlfY",
        "outputId": "db3ed516-192a-4bf7-d489-9ece3f70f9c0"
      },
      "execution_count": null,
      "outputs": [
        {
          "output_type": "error",
          "ename": "ValueError",
          "evalue": "ignored",
          "traceback": [
            "\u001b[0;31m---------------------------------------------------------------------------\u001b[0m",
            "\u001b[0;31mValueError\u001b[0m                                Traceback (most recent call last)",
            "\u001b[0;32m<ipython-input-12-9188312bafe4>\u001b[0m in \u001b[0;36m<module>\u001b[0;34m\u001b[0m\n\u001b[1;32m      1\u001b[0m \u001b[0mdata\u001b[0m \u001b[0;34m=\u001b[0m \u001b[0;34m'I am Mihir Patel'\u001b[0m\u001b[0;34m\u001b[0m\u001b[0;34m\u001b[0m\u001b[0m\n\u001b[0;32m----> 2\u001b[0;31m \u001b[0mint\u001b[0m\u001b[0;34m(\u001b[0m\u001b[0mdata\u001b[0m\u001b[0;34m)\u001b[0m\u001b[0;34m\u001b[0m\u001b[0;34m\u001b[0m\u001b[0m\n\u001b[0m",
            "\u001b[0;31mValueError\u001b[0m: invalid literal for int() with base 10: 'I am Mihir Patel'"
          ]
        }
      ]
    },
    {
      "cell_type": "markdown",
      "source": [
        "**NB : We can't Change the str data item to integer or float**\n"
      ],
      "metadata": {
        "id": "ndyxFFHEV1S9"
      }
    },
    {
      "cell_type": "code",
      "source": [
        "list_of_list = [[1,2,3],[4,5,6],[7,8,9]]\n",
        "print(list_of_list)"
      ],
      "metadata": {
        "colab": {
          "base_uri": "https://localhost:8080/"
        },
        "id": "1tksuPbbVwxZ",
        "outputId": "65c6e6f5-01c2-4576-ec12-97b75931dcbe"
      },
      "execution_count": null,
      "outputs": [
        {
          "output_type": "stream",
          "name": "stdout",
          "text": [
            "[[1, 2, 3], [4, 5, 6], [7, 8, 9]]\n"
          ]
        }
      ]
    },
    {
      "cell_type": "code",
      "source": [
        "#Accessing the list elements\n",
        "print(list_of_list[0])\n",
        "\n",
        "print()\n",
        "\n",
        "print(list_of_list[2])"
      ],
      "metadata": {
        "colab": {
          "base_uri": "https://localhost:8080/"
        },
        "id": "pnVdKVmiWYQ6",
        "outputId": "b3f5240a-7189-4b9a-9656-5781b5de9ed8"
      },
      "execution_count": null,
      "outputs": [
        {
          "output_type": "stream",
          "name": "stdout",
          "text": [
            "[1, 2, 3]\n",
            "\n",
            "[7, 8, 9]\n"
          ]
        }
      ]
    },
    {
      "cell_type": "markdown",
      "source": [
        "##**2.8.1 Working on List :-**\n",
        "\n"
      ],
      "metadata": {
        "id": "4yLfersxW1Hh"
      }
    },
    {
      "cell_type": "markdown",
      "source": [
        "###**2.8.1.(i) Indexing and Slicing:-**\n",
        "\n",
        "![python-list-index.png](data:image/png;base64,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)\n",
        "\n"
      ],
      "metadata": {
        "id": "q8R5H9jmW6lP"
      }
    },
    {
      "cell_type": "code",
      "source": [
        "myList = ['p','r','o','b','e']\n",
        "\n",
        "print(myList)"
      ],
      "metadata": {
        "colab": {
          "base_uri": "https://localhost:8080/"
        },
        "id": "JrbUnDEwWmwK",
        "outputId": "e3db6096-5b55-4ade-c890-b5a6df20f084"
      },
      "execution_count": null,
      "outputs": [
        {
          "output_type": "stream",
          "name": "stdout",
          "text": [
            "['p', 'r', 'o', 'b', 'e']\n"
          ]
        }
      ]
    },
    {
      "cell_type": "code",
      "source": [
        "len(myList)"
      ],
      "metadata": {
        "colab": {
          "base_uri": "https://localhost:8080/"
        },
        "id": "XE6HEqzXXnk3",
        "outputId": "e34281a4-e02e-4951-9648-a9dd993c06d9"
      },
      "execution_count": null,
      "outputs": [
        {
          "output_type": "execute_result",
          "data": {
            "text/plain": [
              "5"
            ]
          },
          "metadata": {},
          "execution_count": 18
        }
      ]
    },
    {
      "cell_type": "code",
      "source": [
        "print(myList[0])\n",
        "print(myList[-1])"
      ],
      "metadata": {
        "colab": {
          "base_uri": "https://localhost:8080/"
        },
        "id": "lW0SGjQVXpfD",
        "outputId": "c2607f81-87d3-435f-f947-41a69f154654"
      },
      "execution_count": null,
      "outputs": [
        {
          "output_type": "stream",
          "name": "stdout",
          "text": [
            "p\n",
            "e\n"
          ]
        }
      ]
    },
    {
      "cell_type": "code",
      "source": [
        "print(myList[2])\n",
        "print(myList[-3])"
      ],
      "metadata": {
        "colab": {
          "base_uri": "https://localhost:8080/"
        },
        "id": "8duoje1-Yvwv",
        "outputId": "6078069e-1326-4db9-d4b1-315bbd85a4dd"
      },
      "execution_count": null,
      "outputs": [
        {
          "output_type": "stream",
          "name": "stdout",
          "text": [
            "o\n",
            "o\n"
          ]
        }
      ]
    },
    {
      "cell_type": "code",
      "source": [
        "print(myList[1:4])"
      ],
      "metadata": {
        "colab": {
          "base_uri": "https://localhost:8080/"
        },
        "id": "Qc_2SCeOY9FX",
        "outputId": "57911e6e-cc5b-4f88-809a-717667fb3b17"
      },
      "execution_count": null,
      "outputs": [
        {
          "output_type": "stream",
          "name": "stdout",
          "text": [
            "['r', 'o', 'b']\n"
          ]
        }
      ]
    },
    {
      "cell_type": "code",
      "source": [
        "print(myList[::-1])"
      ],
      "metadata": {
        "colab": {
          "base_uri": "https://localhost:8080/"
        },
        "id": "xaKHU4_Dm_AT",
        "outputId": "7890f8f4-ef0b-40cf-b648-f637788aec94"
      },
      "execution_count": null,
      "outputs": [
        {
          "output_type": "stream",
          "name": "stdout",
          "text": [
            "['e', 'b', 'o', 'r', 'p']\n"
          ]
        }
      ]
    },
    {
      "cell_type": "markdown",
      "source": [
        "##**2.8.2 Useful Methods :-**"
      ],
      "metadata": {
        "id": "6hsHFv5jofF_"
      }
    },
    {
      "cell_type": "markdown",
      "source": [
        "###**2.8.2.(i) Split method :-**\n",
        "\n",
        "The split() method splits a string into a list.\n",
        "\n",
        "\n",
        "You can specify the separator, default separator is any whitespace."
      ],
      "metadata": {
        "id": "D20sTxcAm9NZ"
      }
    },
    {
      "cell_type": "code",
      "source": [
        "myName = 'Mihir Rajeshkumar Patel'\n",
        "myName.split(' ')"
      ],
      "metadata": {
        "id": "ezK_KLHMZg5Z",
        "colab": {
          "base_uri": "https://localhost:8080/"
        },
        "outputId": "c2a7e489-257b-415c-c074-c8c742115ce2"
      },
      "execution_count": null,
      "outputs": [
        {
          "output_type": "execute_result",
          "data": {
            "text/plain": [
              "['Mihir', 'Rajeshkumar', 'Patel']"
            ]
          },
          "metadata": {},
          "execution_count": 24
        }
      ]
    },
    {
      "cell_type": "code",
      "source": [
        "data = 'I am 3rd year computer engineering student @VGEC.'\n",
        "data.split(\" \")"
      ],
      "metadata": {
        "colab": {
          "base_uri": "https://localhost:8080/"
        },
        "id": "0ynCn55OmREi",
        "outputId": "ea5b7b5f-ba32-428c-fa30-fecde181e506"
      },
      "execution_count": null,
      "outputs": [
        {
          "output_type": "execute_result",
          "data": {
            "text/plain": [
              "['I', 'am', '3rd', 'year', 'computer', 'engineering', 'student', '@VGEC.']"
            ]
          },
          "metadata": {},
          "execution_count": 25
        }
      ]
    },
    {
      "cell_type": "markdown",
      "source": [
        "###**2.8.2.(ii) Count Method :-**\n",
        "\n",
        "The count() method returns the number of elements with the specified value."
      ],
      "metadata": {
        "id": "LYYIiJXfnp3t"
      }
    },
    {
      "cell_type": "code",
      "source": [
        "list_data = [15,23,56,15,2,15,48,69,63,12]\n",
        "print(list_data.count(15))  #15 appearing 3 times in list"
      ],
      "metadata": {
        "colab": {
          "base_uri": "https://localhost:8080/"
        },
        "id": "OUViw8Lem6ME",
        "outputId": "2d876efc-0452-41b1-fa04-ae5837f4135f"
      },
      "execution_count": null,
      "outputs": [
        {
          "output_type": "stream",
          "name": "stdout",
          "text": [
            "3\n"
          ]
        }
      ]
    },
    {
      "cell_type": "markdown",
      "source": [
        "###**2.8.2.(iii) Index Method :-**\n",
        "\n",
        "The **index()** method returns the position at the first occurrence of the specified value.\n",
        "\n",
        "The **rindex()** method finds the last occurrence of the specified value.\n"
      ],
      "metadata": {
        "id": "kG1KuWm4otx5"
      }
    },
    {
      "cell_type": "code",
      "source": [
        "name = [\"Alex\",\"John\",\"Smith\",\"Roy\",\"Macris\"]\n",
        "\n",
        "name.index(\"John\")"
      ],
      "metadata": {
        "colab": {
          "base_uri": "https://localhost:8080/"
        },
        "id": "5Y3O9cHvn4s3",
        "outputId": "275cd9fe-fac3-467d-86ba-eb0dfb6d7789"
      },
      "execution_count": null,
      "outputs": [
        {
          "output_type": "execute_result",
          "data": {
            "text/plain": [
              "1"
            ]
          },
          "metadata": {},
          "execution_count": 29
        }
      ]
    },
    {
      "cell_type": "code",
      "source": [
        "new_name = [\"Alex\",\"John\",\"Smith\",\"Roy\",\"Macris\",\"John\"]\n",
        "\n",
        "new_name.index(\"John\")\n"
      ],
      "metadata": {
        "colab": {
          "base_uri": "https://localhost:8080/"
        },
        "id": "rUGEfwwypm1X",
        "outputId": "08104574-4392-4a7c-971b-6d93092c7f6f"
      },
      "execution_count": null,
      "outputs": [
        {
          "output_type": "execute_result",
          "data": {
            "text/plain": [
              "1"
            ]
          },
          "metadata": {},
          "execution_count": 31
        }
      ]
    },
    {
      "cell_type": "markdown",
      "source": [
        "###**2.8.2.(iv) Reverse List :-**\n",
        "\n",
        "Python List **reverse()** is an inbuilt method in the Python programming language that reverses objects of the List **in place** i.e. it doesn’t use any extra space but it just modifies the original list."
      ],
      "metadata": {
        "id": "xk0LlYUtuxuI"
      }
    },
    {
      "cell_type": "code",
      "source": [
        "list1 = [15,25,36,95,12,37]\n",
        "\n",
        "list1.reverse()\n",
        "\n",
        "print(list1)"
      ],
      "metadata": {
        "id": "g_DNf6yFp2Iy",
        "colab": {
          "base_uri": "https://localhost:8080/"
        },
        "outputId": "4572fcad-ac11-4bb5-fc77-57586fd75416"
      },
      "execution_count": null,
      "outputs": [
        {
          "output_type": "stream",
          "name": "stdout",
          "text": [
            "[37, 12, 95, 36, 25, 15]\n"
          ]
        }
      ]
    },
    {
      "cell_type": "markdown",
      "source": [
        "###**2.8.2.(v) Append() :-**\n",
        "\n",
        "The **append()** method appends an element to the end of the list."
      ],
      "metadata": {
        "id": "hiYtCChxg8JH"
      }
    },
    {
      "cell_type": "code",
      "source": [
        "list1.append(100)\n",
        "\n",
        "print(list1)"
      ],
      "metadata": {
        "colab": {
          "base_uri": "https://localhost:8080/"
        },
        "id": "fRCKC2VdggPi",
        "outputId": "f972f81f-54f1-4523-fda7-db607dac0e6d"
      },
      "execution_count": null,
      "outputs": [
        {
          "output_type": "stream",
          "name": "stdout",
          "text": [
            "[37, 12, 95, 36, 25, 15, 100]\n"
          ]
        }
      ]
    },
    {
      "cell_type": "markdown",
      "source": [
        "###**2.8.2.(vi) Remove() :-**\n",
        "\n",
        "The remove() method removes the first occurrence of the element with the specified value."
      ],
      "metadata": {
        "id": "u-YvLgXFhXcR"
      }
    },
    {
      "cell_type": "code",
      "source": [
        "list1.remove(15)\n",
        "\n",
        "print(list1)"
      ],
      "metadata": {
        "colab": {
          "base_uri": "https://localhost:8080/"
        },
        "id": "sYYroPnahQFi",
        "outputId": "9cc4e1fd-96fe-4509-d6eb-f5b950baa8e9"
      },
      "execution_count": null,
      "outputs": [
        {
          "output_type": "stream",
          "name": "stdout",
          "text": [
            "[37, 12, 95, 36, 25, 100]\n"
          ]
        }
      ]
    },
    {
      "cell_type": "markdown",
      "source": [
        "###**2.8.2.(vii) Pop() :-**\n",
        "\n",
        "The **pop()** method removes the element at last position of the list."
      ],
      "metadata": {
        "id": "ho5s_wAchzAN"
      }
    },
    {
      "cell_type": "code",
      "source": [
        "removed_element = list1.pop()\n",
        "print(removed_element)\n",
        "print(list1)\n"
      ],
      "metadata": {
        "colab": {
          "base_uri": "https://localhost:8080/"
        },
        "id": "EyaAYHk7hk3m",
        "outputId": "388f9f38-c009-42bf-eb18-ef6265cea628"
      },
      "execution_count": null,
      "outputs": [
        {
          "output_type": "stream",
          "name": "stdout",
          "text": [
            "25\n",
            "[37, 12, 95, 36]\n"
          ]
        }
      ]
    },
    {
      "cell_type": "markdown",
      "source": [
        "###**2.8.2.(viii) Sort() :-**\n",
        "\n",
        "The **sort()** method sorts the list ascending by default.\n",
        "\n",
        "\n",
        "You can also make a function to decide the sorting criteria(s)."
      ],
      "metadata": {
        "id": "FkNDNPeViQub"
      }
    },
    {
      "cell_type": "code",
      "source": [
        "list1.sort()\n",
        "\n",
        "print(list1)"
      ],
      "metadata": {
        "colab": {
          "base_uri": "https://localhost:8080/"
        },
        "id": "rTsyGgEAiGDM",
        "outputId": "e4db6c78-2151-4b25-fc2a-ed05150098d3"
      },
      "execution_count": null,
      "outputs": [
        {
          "output_type": "stream",
          "name": "stdout",
          "text": [
            "[12, 36, 37, 95]\n"
          ]
        }
      ]
    },
    {
      "cell_type": "markdown",
      "source": [
        "#**2.9 Range(start,end,step) :-**\n",
        "\n",
        "The range() function returns a sequence of numbers, starting from 0 by default, and increments by 1 (by default), and stops before a specified number.\n",
        "\n"
      ],
      "metadata": {
        "id": "NxLBwCqDkvLA"
      }
    },
    {
      "cell_type": "code",
      "source": [
        "x = range(3, 6)\n",
        "for n in x:\n",
        "  print(n)"
      ],
      "metadata": {
        "colab": {
          "base_uri": "https://localhost:8080/"
        },
        "id": "A7b6l199lBc3",
        "outputId": "9fb11d6d-895c-43bd-b41f-1798504e2a17"
      },
      "execution_count": null,
      "outputs": [
        {
          "output_type": "stream",
          "name": "stdout",
          "text": [
            "3\n",
            "4\n",
            "5\n"
          ]
        }
      ]
    },
    {
      "cell_type": "code",
      "source": [
        "y = []\n",
        "\n",
        "for i in range(10):\n",
        "  y.append(i**2)\n",
        "\n",
        "print(y)  "
      ],
      "metadata": {
        "colab": {
          "base_uri": "https://localhost:8080/"
        },
        "id": "okdEN-v1lCTK",
        "outputId": "a672acbc-6ee5-4687-cf75-53c2d8dbea6a"
      },
      "execution_count": null,
      "outputs": [
        {
          "output_type": "stream",
          "name": "stdout",
          "text": [
            "[0, 1, 4, 9, 16, 25, 36, 49, 64, 81]\n"
          ]
        }
      ]
    },
    {
      "cell_type": "code",
      "source": [
        "data = range(0,13,2)\n",
        "for d in data:\n",
        "  print(d,end=' ')"
      ],
      "metadata": {
        "colab": {
          "base_uri": "https://localhost:8080/"
        },
        "id": "K3YzrA5JlOLf",
        "outputId": "d9cc3d56-533e-43c8-f566-5ae3e489f1fb"
      },
      "execution_count": null,
      "outputs": [
        {
          "output_type": "stream",
          "name": "stdout",
          "text": [
            "0 2 4 6 8 10 12 "
          ]
        }
      ]
    },
    {
      "cell_type": "markdown",
      "source": [
        "#**2.10 List Comprehension :-**\n",
        "\n"
      ],
      "metadata": {
        "id": "7xrn09_zpxoi"
      }
    },
    {
      "cell_type": "code",
      "source": [
        "#let's try typical method.\n",
        "\n",
        "myList = []\n",
        "\n",
        "for i in range(10):\n",
        "  myList.append(i**2)\n",
        "\n",
        "print(myList)"
      ],
      "metadata": {
        "colab": {
          "base_uri": "https://localhost:8080/"
        },
        "id": "Aj3sspS7q6hS",
        "outputId": "662c28f3-075f-4336-c06d-ff5e13713590"
      },
      "execution_count": null,
      "outputs": [
        {
          "output_type": "stream",
          "name": "stdout",
          "text": [
            "[0, 1, 4, 9, 16, 25, 36, 49, 64, 81]\n"
          ]
        }
      ]
    },
    {
      "cell_type": "code",
      "source": [
        "#let's comprehence this\n",
        "\n",
        "myList1 = [i**2 for i in range(10)]\n",
        "\n",
        "print(myList1)"
      ],
      "metadata": {
        "colab": {
          "base_uri": "https://localhost:8080/"
        },
        "id": "xVE-qsWirGhG",
        "outputId": "7da4cf92-62f2-4f46-e2c5-92ee6a853759"
      },
      "execution_count": null,
      "outputs": [
        {
          "output_type": "stream",
          "name": "stdout",
          "text": [
            "[0, 1, 4, 9, 16, 25, 36, 49, 64, 81]\n"
          ]
        }
      ]
    },
    {
      "cell_type": "code",
      "source": [
        "#let's see one more example\n",
        "\n",
        "myList2 = [i for i in range(21) if i%2==0]\n",
        "print(myList2)"
      ],
      "metadata": {
        "colab": {
          "base_uri": "https://localhost:8080/"
        },
        "id": "cZ0ddf7orZCh",
        "outputId": "9079f87c-f348-41f7-b646-ecbea1ff8aa3"
      },
      "execution_count": null,
      "outputs": [
        {
          "output_type": "stream",
          "name": "stdout",
          "text": [
            "[0, 2, 4, 6, 8, 10, 12, 14, 16, 18, 20]\n"
          ]
        }
      ]
    }
  ]
}