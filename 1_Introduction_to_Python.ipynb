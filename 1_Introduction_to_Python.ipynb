{
  "nbformat": 4,
  "nbformat_minor": 0,
  "metadata": {
    "colab": {
      "provenance": [],
      "toc_visible": true,
      "authorship_tag": "ABX9TyPRVXkk6FLnH3Uc1eTLAueX",
      "include_colab_link": true
    },
    "kernelspec": {
      "name": "python3",
      "display_name": "Python 3"
    },
    "language_info": {
      "name": "python"
    }
  },
  "cells": [
    {
      "cell_type": "markdown",
      "metadata": {
        "id": "view-in-github",
        "colab_type": "text"
      },
      "source": [
        "<a href=\"https://colab.research.google.com/github/Mihir76/Python-for-data-science/blob/main/1_Introduction_to_Python.ipynb\" target=\"_parent\"><img src=\"https://colab.research.google.com/assets/colab-badge.svg\" alt=\"Open In Colab\"/></a>"
      ]
    },
    {
      "cell_type": "markdown",
      "source": [
        "#**1 Introduction to PYTHON**"
      ],
      "metadata": {
        "id": "thHqX1z-FT5Z"
      }
    },
    {
      "cell_type": "markdown",
      "source": [
        "![download.png](data:image/png;base64,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)"
      ],
      "metadata": {
        "id": "bgvBTTuzNQWl"
      }
    },
    {
      "cell_type": "markdown",
      "source": [
        "### **1.1 Keywods in Python** :-\n",
        "\n",
        "Keywords are the **reserved words** in Python and  are ***case-sensitive***. \n",
        "\n",
        "We cannot use a keyword as a variable name, function name or any other identifier.\n",
        "\n",
        "In Python 3.11 There are **35** key words.\n",
        "\n",
        "Here's a list of all keywords in Python Programming\n",
        "\n",
        "\n",
        "```\n",
        "False               class               from                or\n",
        "None                continue            global              pass\n",
        "True                def                 if                  raise\n",
        "and                 del                 import              return\n",
        "as                  elif                in                  try\n",
        "assert              else                is                  while\n",
        "async               except              lambda              with\n",
        "await               finally             nonlocal            yield\n",
        "break               for                 not\n",
        "\n",
        "```\n",
        "All these keyword are written in **lower-case** except **True** ,  **False** and  **None**.\n",
        "\n"
      ],
      "metadata": {
        "id": "O_iIAagKFx9P"
      }
    },
    {
      "cell_type": "markdown",
      "source": [
        "### **1.2 Identifier** :-\n",
        "\n",
        "\n",
        "An identifier in python is a name given to entity like class,variables,function etc.\n",
        "\n",
        "Identifier helps us to **differentiate** one entity from other.\n",
        "\n",
        "We can't use the keyword as identifier.\n"
      ],
      "metadata": {
        "id": "Yuq1c2tqO6cj"
      }
    },
    {
      "cell_type": "code",
      "source": [
        "age = 19"
      ],
      "metadata": {
        "id": "jy-KqMUMTQhq"
      },
      "execution_count": null,
      "outputs": []
    },
    {
      "cell_type": "code",
      "source": [
        "age"
      ],
      "metadata": {
        "colab": {
          "base_uri": "https://localhost:8080/"
        },
        "id": "5pmTpf13TX-R",
        "outputId": "a89d8247-8c24-422b-df49-2111ecf861af"
      },
      "execution_count": null,
      "outputs": [
        {
          "output_type": "execute_result",
          "data": {
            "text/plain": [
              "19"
            ]
          },
          "metadata": {},
          "execution_count": 2
        }
      ]
    },
    {
      "cell_type": "markdown",
      "source": [
        "In the above example the **age** is the identifier that are used to differentiate variable from other variable and if we wants to access that variable then just used it's name and we are able to use that!."
      ],
      "metadata": {
        "id": "5TrMKq-sXMuR"
      }
    },
    {
      "cell_type": "markdown",
      "source": [
        "####**1.2.1 Rules for Identifier :-**\n",
        "\n",
        "```\n",
        "\n",
        "Identifier names in Python can contain numbers (0-9), uppercase letters (A-Z), lowercase letters (a-z), and underscore (_).\n",
        "\n",
        "The name should always start with a non-numeric character.\n",
        "\n",
        "An identifier name should not contain numeric characters only.\n",
        "\n",
        "Identifier names in Python are case-sensitive like most other languages.\n",
        "\n",
        "```\n"
      ],
      "metadata": {
        "id": "J9dUjFLKTZwW"
      }
    },
    {
      "cell_type": "markdown",
      "source": [
        "The below is the right way of identifier naming convention therefore it doesn't give me any error."
      ],
      "metadata": {
        "id": "JKaYqemlWTVO"
      }
    },
    {
      "cell_type": "code",
      "source": [
        "my_name = 'Mihir Patel'"
      ],
      "metadata": {
        "id": "Pu9kXYxOWEhJ"
      },
      "execution_count": null,
      "outputs": []
    },
    {
      "cell_type": "code",
      "source": [
        "my_name"
      ],
      "metadata": {
        "colab": {
          "base_uri": "https://localhost:8080/",
          "height": 36
        },
        "id": "8L8mCm8tWJVP",
        "outputId": "23f028f4-6c11-4eeb-95c0-1cdc18233113"
      },
      "execution_count": null,
      "outputs": [
        {
          "output_type": "execute_result",
          "data": {
            "text/plain": [
              "'Mihir Patel'"
            ],
            "application/vnd.google.colaboratory.intrinsic+json": {
              "type": "string"
            }
          },
          "metadata": {},
          "execution_count": 4
        }
      ]
    },
    {
      "cell_type": "markdown",
      "source": [
        "The below identifier naming convention is not valid, therefore it gives me **invalid decimal literalr** error message."
      ],
      "metadata": {
        "id": "gbXZyTskWjyZ"
      }
    },
    {
      "cell_type": "code",
      "source": [
        "2_my_roll_no = 15"
      ],
      "metadata": {
        "colab": {
          "base_uri": "https://localhost:8080/",
          "height": 130
        },
        "id": "ri0DVzQ5Wabf",
        "outputId": "194561f0-f4b1-4b34-d3cd-ad310a8b459a"
      },
      "execution_count": null,
      "outputs": [
        {
          "output_type": "error",
          "ename": "SyntaxError",
          "evalue": "ignored",
          "traceback": [
            "\u001b[0;36m  File \u001b[0;32m\"<ipython-input-5-ebdae154805d>\"\u001b[0;36m, line \u001b[0;32m1\u001b[0m\n\u001b[0;31m    2_my_roll_no = 15\u001b[0m\n\u001b[0m     ^\u001b[0m\n\u001b[0;31mSyntaxError\u001b[0m\u001b[0;31m:\u001b[0m invalid decimal literal\n"
          ]
        }
      ]
    },
    {
      "cell_type": "markdown",
      "source": [
        "### **1.3 Comment in Python** :-\n",
        "\n",
        "The of the most important practice in python is providing comment while you writing your code.With the help of Comments you can figuring out What is going on in your code.In fact writing comments helps you figures things in code.Python gives flexibility to write comments in your code.\n",
        "\n",
        "You can use hash(#) symbol to write comment as seen below :\n"
      ],
      "metadata": {
        "id": "ok4Lrg-0MdWT"
      }
    },
    {
      "cell_type": "code",
      "source": [
        "#This is comments and interpriter ignore it."
      ],
      "metadata": {
        "id": "kpDKvMHXZ02B"
      },
      "execution_count": null,
      "outputs": []
    },
    {
      "cell_type": "markdown",
      "source": [
        "####**1.3.1 Multiline comments :-**\n",
        "\n",
        "The below are the multi-line Comments :-\n",
        "\n"
      ],
      "metadata": {
        "id": "pgbmrAu1aHo3"
      }
    },
    {
      "cell_type": "code",
      "source": [
        "#Here we are adding two numbers\n",
        "#and then print the result\n",
        "a =5\n",
        "b=10\n",
        "sum = a+b\n",
        "print(sum)"
      ],
      "metadata": {
        "colab": {
          "base_uri": "https://localhost:8080/"
        },
        "id": "VIOkcBB-hnEg",
        "outputId": "13b151ec-1962-477f-ae07-469fecc148b0"
      },
      "execution_count": null,
      "outputs": [
        {
          "output_type": "stream",
          "name": "stdout",
          "text": [
            "15\n"
          ]
        }
      ]
    },
    {
      "cell_type": "markdown",
      "source": [
        "We can alternatively use **triple single-quotes** for comment or we can also use **triple double-quotes** for comments "
      ],
      "metadata": {
        "id": "asOIfoloh4q6"
      }
    },
    {
      "cell_type": "code",
      "source": [
        "'''This is comment using triple single-quotes '''\n"
      ],
      "metadata": {
        "colab": {
          "base_uri": "https://localhost:8080/",
          "height": 36
        },
        "id": "VoBkig7hi19c",
        "outputId": "74ab4eb2-c2b8-49c3-d815-d2436aa2391e"
      },
      "execution_count": null,
      "outputs": [
        {
          "output_type": "execute_result",
          "data": {
            "text/plain": [
              "'This is comment using triple single-quotes '"
            ],
            "application/vnd.google.colaboratory.intrinsic+json": {
              "type": "string"
            }
          },
          "metadata": {},
          "execution_count": 9
        }
      ]
    },
    {
      "cell_type": "code",
      "source": [
        "\"\"\"This is comment using triple double-quotes\"\"\"\n"
      ],
      "metadata": {
        "colab": {
          "base_uri": "https://localhost:8080/",
          "height": 36
        },
        "id": "Dg2BklV-jOLN",
        "outputId": "6f217045-2d5b-4658-ce34-1b9eefe66376"
      },
      "execution_count": null,
      "outputs": [
        {
          "output_type": "execute_result",
          "data": {
            "text/plain": [
              "'This is comment using triple double-quotes'"
            ],
            "application/vnd.google.colaboratory.intrinsic+json": {
              "type": "string"
            }
          },
          "metadata": {},
          "execution_count": 10
        }
      ]
    },
    {
      "cell_type": "markdown",
      "source": [
        "####**1.3.2 DOCSTRING Comments:-** \n",
        "\n",
        "The fullform of Docstring is **Documentation String**\n",
        "\n",
        "Docstring in Python are the string literal that are appear right after the defination of function,method,class or module.\n",
        "\n",
        "\n",
        "Example :-"
      ],
      "metadata": {
        "id": "xmZacoR_jVvZ"
      }
    },
    {
      "cell_type": "code",
      "source": [
        "def addNumbers(a,b) :\n",
        "  '''This function is return the summation of two Numbers.'''\n",
        "  sum = a+b\n",
        "  return sum"
      ],
      "metadata": {
        "id": "HX6rkyEClIYT"
      },
      "execution_count": null,
      "outputs": []
    },
    {
      "cell_type": "markdown",
      "source": [
        "If you wanted to find the Docstring associated with function then use ```__doc__``` inorder to get the Docstring. "
      ],
      "metadata": {
        "id": "BACmADhZlkmY"
      }
    },
    {
      "cell_type": "code",
      "source": [
        "print(addNumbers.__doc__)"
      ],
      "metadata": {
        "colab": {
          "base_uri": "https://localhost:8080/"
        },
        "id": "JAKC_u9hlWk5",
        "outputId": "e47f11df-8d9b-4dc7-b34d-af6c19695d29"
      },
      "execution_count": null,
      "outputs": [
        {
          "output_type": "stream",
          "name": "stdout",
          "text": [
            "This function is return the summation of two Numbers.\n"
          ]
        }
      ]
    },
    {
      "cell_type": "markdown",
      "source": [
        "###**1.4 Variable :-**\n",
        "\n",
        "Think of Python variable as Contariner that hold space in memory in order for you to store something in memory.So if you create variable then you are telling Python to create a space because you have something to store.\n",
        "\n",
        "**NOTE :**\n",
        "Variable are **case-sensitive** therefore **Age** and **age** are two different variable.\n",
        "\n",
        "Example of Python Variable :-"
      ],
      "metadata": {
        "id": "j0DpB6p2nG4T"
      }
    },
    {
      "cell_type": "code",
      "source": [
        "gender = 'Male'"
      ],
      "metadata": {
        "id": "sSQq3jzBozCD"
      },
      "execution_count": null,
      "outputs": []
    },
    {
      "cell_type": "markdown",
      "source": [
        "Inorder to get the Memory location at where the variable is store in memory then use the following syntax :\n",
        "\n",
        "```print(id(name_of_variable))```\n",
        "\n",
        "Example :-"
      ],
      "metadata": {
        "id": "wopLJnkopFi9"
      }
    },
    {
      "cell_type": "code",
      "source": [
        "print(id(gender))"
      ],
      "metadata": {
        "colab": {
          "base_uri": "https://localhost:8080/"
        },
        "id": "ty_hplwtpB-_",
        "outputId": "8239f04b-b898-4dfc-ef82-684004903a41"
      },
      "execution_count": null,
      "outputs": [
        {
          "output_type": "stream",
          "name": "stdout",
          "text": [
            "140689863625712\n"
          ]
        }
      ]
    },
    {
      "cell_type": "markdown",
      "source": [
        "####**1.4.1 Assinging multiple-value to multiple-variable :-**\n"
      ],
      "metadata": {
        "id": "OzVwSEC5q5gc"
      }
    },
    {
      "cell_type": "markdown",
      "source": [
        "The below method is used for assigning multiple-values to multiple-variable "
      ],
      "metadata": {
        "id": "KUO9IuPMs-Bj"
      }
    },
    {
      "cell_type": "code",
      "source": [
        "a,b,c =4 ,'Mihir',36\n",
        "print(a)\n",
        "print(b)\n",
        "print(c)"
      ],
      "metadata": {
        "colab": {
          "base_uri": "https://localhost:8080/"
        },
        "id": "At2KRMBPsxjn",
        "outputId": "65d758f7-319e-4952-8a91-249d967d3395"
      },
      "execution_count": null,
      "outputs": [
        {
          "output_type": "stream",
          "name": "stdout",
          "text": [
            "4\n",
            "Mihir\n",
            "36\n"
          ]
        }
      ]
    },
    {
      "cell_type": "markdown",
      "source": [
        "###**1.5 Rules and Naming Convention for Python Variable :-**\n",
        "\n",
        "1.Python variable should have a combination of letter in lowercase (**a to z**) or uppercase (**A to Z**) or underscore(**_**).\n",
        "\n",
        "Example :-"
      ],
      "metadata": {
        "id": "rcWlIAmYtI4t"
      }
    },
    {
      "cell_type": "code",
      "source": [
        "#snack_case naming convention : f_var ='It is snack_case variable'\n",
        "#MACRO_CASE naming convention : s_var = 'It is MACRO_CASE variable'\n",
        "#camel_case naming convetion : t_var = 'It is camelCase variable'\n",
        "First_variable = 'Computer Engineering'"
      ],
      "metadata": {
        "id": "LMOvcwKru9_T"
      },
      "execution_count": null,
      "outputs": []
    },
    {
      "cell_type": "markdown",
      "source": [
        "2.Make sure your variable name makes sense.\n",
        "\n",
        "Example :-"
      ],
      "metadata": {
        "id": "MHicyCNWvET2"
      }
    },
    {
      "cell_type": "code",
      "source": [
        "# Insted of writing a = ['blue','green','red','pink']\n",
        "#you can make it as follows\n",
        "color = ['blue','green','red','pink']\n",
        "print(color)"
      ],
      "metadata": {
        "colab": {
          "base_uri": "https://localhost:8080/"
        },
        "id": "2ndFf_OBvK4-",
        "outputId": "a8188258-0af8-48b5-84cb-c6d1c20eda12"
      },
      "execution_count": null,
      "outputs": [
        {
          "output_type": "stream",
          "name": "stdout",
          "text": [
            "['blue', 'green', 'red', 'pink']\n"
          ]
        }
      ]
    },
    {
      "cell_type": "markdown",
      "source": [
        "3.You can use underscore (_) to separate variable names that are more than one.\n",
        "\n",
        "Example :-"
      ],
      "metadata": {
        "id": "2_Wzyvr6vmcr"
      }
    },
    {
      "cell_type": "code",
      "source": [
        "sem4_spi = 9.04\n",
        "print(sem4_spi)"
      ],
      "metadata": {
        "colab": {
          "base_uri": "https://localhost:8080/"
        },
        "id": "4nv6uWS3wDby",
        "outputId": "856457bb-607c-4525-ec17-e76a5528ecfc"
      },
      "execution_count": null,
      "outputs": [
        {
          "output_type": "stream",
          "name": "stdout",
          "text": [
            "9.04\n"
          ]
        }
      ]
    },
    {
      "cell_type": "markdown",
      "source": [
        "###**1.6 Output Of Python :-**\n",
        "\n",
        "In Python, we normally use the **print()** Function to outa result onto screen "
      ],
      "metadata": {
        "id": "0zXsAPfavkum"
      }
    },
    {
      "cell_type": "code",
      "source": [
        "number1 =30\n",
        "number2 = 15\n",
        "mul = number1*number2\n",
        "print(f\"Multiplication of {number1} and {number2} is : {mul}\")"
      ],
      "metadata": {
        "colab": {
          "base_uri": "https://localhost:8080/"
        },
        "id": "C93jCftsEJVG",
        "outputId": "2de52a83-b8cd-4046-eba8-cb68f80ce9ec"
      },
      "execution_count": null,
      "outputs": [
        {
          "output_type": "stream",
          "name": "stdout",
          "text": [
            "Multiplication of 30 and 15 is : 450\n"
          ]
        }
      ]
    },
    {
      "cell_type": "markdown",
      "source": [
        "###**1.7 Input Of Python :-**\n",
        "\n",
        "The Python **input()** function is used to accept user inputs.This allows us to write Dynamic codes in Python.\n",
        "\n",
        "The default Python **input()** Function taking input in **String** data type.\n",
        "\n",
        "Example :-"
      ],
      "metadata": {
        "id": "rVGXl7ZgExd3"
      }
    },
    {
      "cell_type": "code",
      "source": [
        "age = input(\"Enter your Age : \")\n",
        "print(f\"Your Age is : {age}\")\n",
        "print(f\"age variable memory location is :  {id(age)}\")"
      ],
      "metadata": {
        "colab": {
          "base_uri": "https://localhost:8080/"
        },
        "id": "WKijSNW0FbT-",
        "outputId": "828ae86c-44da-4613-e96d-0e3fd5f438eb"
      },
      "execution_count": null,
      "outputs": [
        {
          "output_type": "stream",
          "name": "stdout",
          "text": [
            "Enter your Age : 20\n",
            "Your Age is : 20\n",
            "age variable memory location is :  140562069038384\n"
          ]
        }
      ]
    },
    {
      "cell_type": "markdown",
      "source": [
        "We can do some more complex things with **input()** function like,"
      ],
      "metadata": {
        "id": "DxeJgbbFF4n3"
      }
    },
    {
      "cell_type": "code",
      "source": [
        "#accept the quantity and size and based on entered valyues we can gives sonme disscount!\n",
        "quantity = int(input(\"Enter the Quantity : \"))\n",
        "size = int(input(\"Enter the size : \"))\n",
        "disscount = 0.1\n",
        "price = quantity* size\n",
        "disPrice = price - price*disscount\n",
        "print(f\"You will get {disscount*100}% off!!\")\n",
        "print(f\"Actual Ammount is : {price}.\")\n",
        "print(f\"Disscounted Ammount is : {disPrice}.\")"
      ],
      "metadata": {
        "colab": {
          "base_uri": "https://localhost:8080/"
        },
        "id": "ZteduWRVG-E3",
        "outputId": "f22e5455-b143-4012-80fe-8470dce6a973"
      },
      "execution_count": null,
      "outputs": [
        {
          "output_type": "stream",
          "name": "stdout",
          "text": [
            "Enter the Quantity : 200\n",
            "Enter the size : 15\n",
            "You will get 10.0% off!!\n",
            "Actual Ammount is : 3000.\n",
            "Disscounted Ammount is : 2700.0.\n"
          ]
        }
      ]
    },
    {
      "cell_type": "markdown",
      "source": [
        "###**1.8 Import In Python :-**\n",
        "\n",
        "We do not have to write python code from scratch to accomplish certain task.Python has sereval inbuild modules that are already coded to perform some task and we can easily use these modules to accomplish our task without coding these funcationality from scratch.\n",
        "\n",
        "Example :-"
      ],
      "metadata": {
        "id": "4pab1kUxJRwr"
      }
    },
    {
      "cell_type": "code",
      "source": [
        "numbers = [10,25,30,35,62]\n",
        "cal_mean = (10+25+30+35+60)/5\n",
        "print(f\"Mean is : {cal_mean}\")"
      ],
      "metadata": {
        "colab": {
          "base_uri": "https://localhost:8080/"
        },
        "id": "SrKosxDFKtB2",
        "outputId": "90985b8d-0578-40cc-f896-4707270c79c3"
      },
      "execution_count": null,
      "outputs": [
        {
          "output_type": "stream",
          "name": "stdout",
          "text": [
            "Mean is : 32.0\n"
          ]
        }
      ]
    },
    {
      "cell_type": "code",
      "source": [
        "#alternatively we can use build-in function and do our task\n",
        "import statistics as s\n",
        "cal_mean = s.mean(numbers)\n",
        "print(f\"Mean is : {cal_mean}\")"
      ],
      "metadata": {
        "colab": {
          "base_uri": "https://localhost:8080/"
        },
        "id": "yGqNfwlILRPl",
        "outputId": "0a8349e4-09b6-4563-e0b1-e74de5341781"
      },
      "execution_count": null,
      "outputs": [
        {
          "output_type": "stream",
          "name": "stdout",
          "text": [
            "Mean is : 32.4\n"
          ]
        }
      ]
    },
    {
      "cell_type": "markdown",
      "source": [
        "###**1.9 Operators in Python :-**\n",
        "\n",
        "In python to carry out arithmetic or logical computation,we use special symbol called operator.The value that the operator operates on is called called the operand."
      ],
      "metadata": {
        "id": "4mS22ndhMmGi"
      }
    },
    {
      "cell_type": "markdown",
      "source": [
        "####**1.9.1 Arithmetic Operators :-**\n",
        "\n",
        "```\n",
        "Operator\t  Operation\t      Example\n",
        "```\n",
        "\n",
        "\n",
        "---\n",
        "\n",
        "\n",
        "```\n",
        "+\t         Addition\t       5 + 2 = 7\n",
        "-\t         Subtraction\t    4 - 2 = 2\n",
        "*\t         Multiplication     2 * 3 = 6\n",
        "/\t         Division\t       4 / 2 = 2\n",
        "//\t        Floor Division\t 10 // 3 = 3\n",
        "%\t         Modulo\t         5 % 2 = 1\n",
        "**\t        Power\t          4 ** 2 = 16\n",
        "\n",
        "```\n",
        "\n"
      ],
      "metadata": {
        "id": "vaWLujsQY0TC"
      }
    },
    {
      "cell_type": "code",
      "source": [
        "#the follow is illustrate the addition of two numbers:-\n",
        "num1 = 10\n",
        "num2 = 15\n",
        "sum = num1 + num2\n",
        "print(f\"The Summation of {num1} and {num2} is : {sum}\")"
      ],
      "metadata": {
        "colab": {
          "base_uri": "https://localhost:8080/"
        },
        "id": "v4Ojze3ebk9J",
        "outputId": "29d370bb-39e6-406e-d4e8-4f91a8acad23"
      },
      "execution_count": null,
      "outputs": [
        {
          "output_type": "stream",
          "name": "stdout",
          "text": [
            "The Summation of 10 and 15 is : 25\n"
          ]
        }
      ]
    },
    {
      "cell_type": "code",
      "source": [
        "#the follow is illustrate the suntraction of two numbers:-\n",
        "num1 = 10\n",
        "num2 = 15\n",
        "sub = num1 - num2\n",
        "print(f\"The Subtraction of {num1} and {num2} is : {sub}\")"
      ],
      "metadata": {
        "colab": {
          "base_uri": "https://localhost:8080/"
        },
        "id": "mmPj3ppbbzyM",
        "outputId": "47cca912-f9e1-440d-ef51-ed694d27d351"
      },
      "execution_count": null,
      "outputs": [
        {
          "output_type": "stream",
          "name": "stdout",
          "text": [
            "The Subtraction of 10 and 15 is : -5\n"
          ]
        }
      ]
    },
    {
      "cell_type": "code",
      "source": [
        "#the follow is illustrate the multiplication of two numbers:-\n",
        "num1 = 10\n",
        "num2 = 15\n",
        "mul = num1 * num2\n",
        "print(f\"The Multiplication of {num1} and {num2} is : {mul}\")"
      ],
      "metadata": {
        "colab": {
          "base_uri": "https://localhost:8080/"
        },
        "id": "SDGzZslAb-p0",
        "outputId": "5ecf2ef9-d959-4687-a5e6-eaf5e269d99d"
      },
      "execution_count": null,
      "outputs": [
        {
          "output_type": "stream",
          "name": "stdout",
          "text": [
            "The Multiplication of 10 and 15 is : 150\n"
          ]
        }
      ]
    },
    {
      "cell_type": "code",
      "source": [
        "#the follow is illustrate the division of two numbers:-\n",
        "num1 = 10\n",
        "num2 = 15\n",
        "div = num1 / num2\n",
        "print(f\"The Division of {num1} and {num2} is : {div}\")"
      ],
      "metadata": {
        "colab": {
          "base_uri": "https://localhost:8080/"
        },
        "id": "4BdCAsjucDoj",
        "outputId": "9be13e40-6340-41f2-e581-8ce9b28bc183"
      },
      "execution_count": null,
      "outputs": [
        {
          "output_type": "stream",
          "name": "stdout",
          "text": [
            "The Division of 10 and 15 is : 0.6666666666666666\n"
          ]
        }
      ]
    },
    {
      "cell_type": "code",
      "source": [
        "#the follow is illustrate the floor division of two numbers:-\n",
        "num1 = 10\n",
        "num2 = 15\n",
        "flor = num1 // num2\n",
        "print(f\"The Floor Division of {num1} and {num2} is : {flor}\")"
      ],
      "metadata": {
        "colab": {
          "base_uri": "https://localhost:8080/"
        },
        "id": "f53ogxPucJD5",
        "outputId": "dc15b7bf-4d01-4850-d705-acd35e86f97c"
      },
      "execution_count": null,
      "outputs": [
        {
          "output_type": "stream",
          "name": "stdout",
          "text": [
            "The Floor Division of 10 and 15 is : 0\n"
          ]
        }
      ]
    },
    {
      "cell_type": "code",
      "source": [
        "#the follow is illustrate the modulo of two numbers:-\n",
        "num1 = 10\n",
        "num2 = 3\n",
        "mod = num1 % num2\n",
        "print(f\"The Modulo of {num1} and {num2} is : {mod}\")"
      ],
      "metadata": {
        "colab": {
          "base_uri": "https://localhost:8080/"
        },
        "id": "QecsJFsKcPUv",
        "outputId": "fb479482-ec62-4db7-dba4-0c266c72925d"
      },
      "execution_count": null,
      "outputs": [
        {
          "output_type": "stream",
          "name": "stdout",
          "text": [
            "The Modulo of 10 and 3 is : 1\n"
          ]
        }
      ]
    },
    {
      "cell_type": "code",
      "source": [
        "#the follow is illustrate the power of two numbers:-\n",
        "num1 = 3\n",
        "num2 = 5\n",
        "pow = num1 ** num2\n",
        "print(f\"The Power of {num1} and {num2} is : {pow}\")"
      ],
      "metadata": {
        "colab": {
          "base_uri": "https://localhost:8080/"
        },
        "id": "JJ7yegpQcXo4",
        "outputId": "afbde98d-0257-402f-91f7-b7c5e633ac6a"
      },
      "execution_count": null,
      "outputs": [
        {
          "output_type": "stream",
          "name": "stdout",
          "text": [
            "The Power of 3 and 5 is : 243\n"
          ]
        }
      ]
    },
    {
      "cell_type": "markdown",
      "source": [
        "####**1.9.2 Comparison Operators:-**\n",
        "\n",
        "\n",
        "The Comparision operator are used to make comparision in Python and the output is either **True** or **False**.\n",
        "```\n",
        "Operator\t  Name\t         Example\t\n",
        "```\n",
        "---\n",
        "```\n",
        "==\t        Equal\t        x == y\t\n",
        "!=\t        Not equal\t    x != y\t\n",
        ">\t         Greater than\t x > y\t\n",
        "<\t         Less than\t    x < y\t\n",
        ">=\t        Greater than     x >= y\n",
        "              or equal to\t\t\n",
        "<=\t        Less than        x <= y\n",
        "              or equal to\t\n",
        "```\n",
        "\n"
      ],
      "metadata": {
        "id": "nCWWNohJdmLe"
      }
    },
    {
      "cell_type": "code",
      "source": [
        "45 == 7"
      ],
      "metadata": {
        "colab": {
          "base_uri": "https://localhost:8080/"
        },
        "id": "SWm0ey0hjDWu",
        "outputId": "6b137a14-22ed-4c79-a269-322813ba84f0"
      },
      "execution_count": null,
      "outputs": [
        {
          "output_type": "execute_result",
          "data": {
            "text/plain": [
              "False"
            ]
          },
          "metadata": {},
          "execution_count": 9
        }
      ]
    },
    {
      "cell_type": "code",
      "source": [
        "23 >= 45"
      ],
      "metadata": {
        "colab": {
          "base_uri": "https://localhost:8080/"
        },
        "id": "4u3uXRp2jF-f",
        "outputId": "2b339816-e18d-4345-9669-4ce19dbe974f"
      },
      "execution_count": null,
      "outputs": [
        {
          "output_type": "execute_result",
          "data": {
            "text/plain": [
              "False"
            ]
          },
          "metadata": {},
          "execution_count": 10
        }
      ]
    },
    {
      "cell_type": "code",
      "source": [
        "12 != 12"
      ],
      "metadata": {
        "colab": {
          "base_uri": "https://localhost:8080/"
        },
        "id": "KShr4EBNjJxd",
        "outputId": "ce8fafbe-24a0-4da8-aaa3-4e67414a402a"
      },
      "execution_count": null,
      "outputs": [
        {
          "output_type": "execute_result",
          "data": {
            "text/plain": [
              "False"
            ]
          },
          "metadata": {},
          "execution_count": 11
        }
      ]
    },
    {
      "cell_type": "code",
      "source": [
        "15 > 20"
      ],
      "metadata": {
        "colab": {
          "base_uri": "https://localhost:8080/"
        },
        "id": "_lPPQ7sBjURP",
        "outputId": "d6bac55b-b8f6-4856-c932-aa6426ad4817"
      },
      "execution_count": null,
      "outputs": [
        {
          "output_type": "execute_result",
          "data": {
            "text/plain": [
              "False"
            ]
          },
          "metadata": {},
          "execution_count": 12
        }
      ]
    },
    {
      "cell_type": "markdown",
      "source": [
        "####**1.9.3 Logical Operators:-**\n",
        "\n",
        "In Python,Logical operatorare used on conditional statements(either Trur or False). They perform Logical **and** , **or** , **not** operationals.\n",
        "```\n",
        "Operator\tDescription\t                                             Example\t\n",
        "```\n",
        "\n",
        "\n",
        "---\n",
        "```\n",
        "and \t    Returns True if both statements are true\t               x < 5 and  x < 10\t\n",
        "or\t      Returns True if one of the statements is true\t          x < 5 or x < 4\t\n",
        "not\t     Reverse the result, returns False if the result is true    not(x < 5 and x < 10)\n",
        "```\n",
        "\n"
      ],
      "metadata": {
        "id": "5o-QKRPcgtlc"
      }
    },
    {
      "cell_type": "code",
      "source": [
        "a,b,c = 27,15,8\n",
        "a<10 and b>10\n",
        " "
      ],
      "metadata": {
        "colab": {
          "base_uri": "https://localhost:8080/"
        },
        "id": "owBSOjZVjkdu",
        "outputId": "c9c687ed-985d-43a5-b9ef-fe170a562e9c"
      },
      "execution_count": null,
      "outputs": [
        {
          "output_type": "execute_result",
          "data": {
            "text/plain": [
              "False"
            ]
          },
          "metadata": {},
          "execution_count": 14
        }
      ]
    },
    {
      "cell_type": "code",
      "source": [
        "a,b,c = 27,15,8\n",
        "a <10 or b>10"
      ],
      "metadata": {
        "colab": {
          "base_uri": "https://localhost:8080/"
        },
        "id": "uim_evQ8llkh",
        "outputId": "c571ed3c-73a5-46bd-cd05-02453da32787"
      },
      "execution_count": null,
      "outputs": [
        {
          "output_type": "execute_result",
          "data": {
            "text/plain": [
              "True"
            ]
          },
          "metadata": {},
          "execution_count": 15
        }
      ]
    },
    {
      "cell_type": "code",
      "source": [
        "a,b,c = 27,15,8\n",
        "not(a<10 or b>15)"
      ],
      "metadata": {
        "colab": {
          "base_uri": "https://localhost:8080/"
        },
        "id": "wYzTwyltljVd",
        "outputId": "4625a1e6-efb8-48fb-df81-9ba7edc6a702"
      },
      "execution_count": null,
      "outputs": [
        {
          "output_type": "execute_result",
          "data": {
            "text/plain": [
              "True"
            ]
          },
          "metadata": {},
          "execution_count": 16
        }
      ]
    },
    {
      "cell_type": "markdown",
      "source": [
        "####**1.9.4 Bitwise Operator :-**\n",
        "\n",
        "In Python, bitwise operators are used to perform bitwise calculations on integers. The integers are first converted into binary and then operations are performed on each bit or corresponding pair of bits, hence the name bitwise operators. The result is then returned in decimal format.\n",
        "\n",
        "```\n",
        "OPERATOR\tDESCRIPTION\t       SYNTAX\n",
        "\n",
        "```\n",
        "---\n",
        "```\n",
        "&\t       Bitwise AND\t        x & y\n",
        "|\t       Bitwise OR\t         x | y\n",
        "~\t       Bitwise NOT\t        ~x\n",
        "^\t       Bitwise XOR\t        x ^ y\n",
        ">>\t      Bitwise right shift\tx>>\n",
        "<<\t      Bitwise left shift\t x<<\n",
        "```\n"
      ],
      "metadata": {
        "id": "LZb_46mMlzUU"
      }
    },
    {
      "cell_type": "code",
      "source": [
        "a,b = 10,4\n",
        "print(a&b)"
      ],
      "metadata": {
        "colab": {
          "base_uri": "https://localhost:8080/"
        },
        "id": "HhZZ1zGqnm2E",
        "outputId": "6ac8e8a5-26cb-407e-dde1-fbea04ee8250"
      },
      "execution_count": null,
      "outputs": [
        {
          "output_type": "stream",
          "name": "stdout",
          "text": [
            "0\n"
          ]
        }
      ]
    },
    {
      "cell_type": "code",
      "source": [
        "a,b = 10,4\n",
        "print(a|b)"
      ],
      "metadata": {
        "colab": {
          "base_uri": "https://localhost:8080/"
        },
        "id": "dRg-dlTEnucS",
        "outputId": "ff03f8f3-eef9-4470-e7e4-d5ce70080ee9"
      },
      "execution_count": null,
      "outputs": [
        {
          "output_type": "stream",
          "name": "stdout",
          "text": [
            "14\n"
          ]
        }
      ]
    },
    {
      "cell_type": "code",
      "source": [
        "a = 10\n",
        "print(~a)"
      ],
      "metadata": {
        "colab": {
          "base_uri": "https://localhost:8080/"
        },
        "id": "W4tthSCyn0DH",
        "outputId": "0ce572b7-a407-40db-aada-3fc752e49411"
      },
      "execution_count": null,
      "outputs": [
        {
          "output_type": "stream",
          "name": "stdout",
          "text": [
            "-11\n"
          ]
        }
      ]
    },
    {
      "cell_type": "code",
      "source": [
        "a,b = 10,4\n",
        "print(a^b)"
      ],
      "metadata": {
        "colab": {
          "base_uri": "https://localhost:8080/"
        },
        "id": "cJ8x58xZn8Ig",
        "outputId": "ae5e24e1-cdf7-4375-8603-e4a079a5d85d"
      },
      "execution_count": null,
      "outputs": [
        {
          "output_type": "stream",
          "name": "stdout",
          "text": [
            "14\n"
          ]
        }
      ]
    },
    {
      "cell_type": "code",
      "source": [
        "a= 10\n",
        "print(a>>1)"
      ],
      "metadata": {
        "colab": {
          "base_uri": "https://localhost:8080/"
        },
        "id": "1crVNHdMoFG1",
        "outputId": "7a61f431-6cc6-4f27-8f7a-9d13de4758e4"
      },
      "execution_count": null,
      "outputs": [
        {
          "output_type": "stream",
          "name": "stdout",
          "text": [
            "5\n"
          ]
        }
      ]
    },
    {
      "cell_type": "code",
      "source": [
        "a = 10\n",
        "print(a<<1)"
      ],
      "metadata": {
        "colab": {
          "base_uri": "https://localhost:8080/"
        },
        "id": "pSAiBPo5oW2F",
        "outputId": "0f324373-94ed-46cd-d3a6-3031938c1e09"
      },
      "execution_count": null,
      "outputs": [
        {
          "output_type": "stream",
          "name": "stdout",
          "text": [
            "20\n"
          ]
        }
      ]
    },
    {
      "cell_type": "markdown",
      "source": [
        "####**1.9.5 Assignment Operator :-**\n",
        "\n",
        "In Python, we use assignment operator to assign the values to variables.\n",
        "\n",
        "```\n",
        "Operator\tExample\tSame As\n",
        "```\n",
        "---\n",
        "```\n",
        "=\t       x = 5\t   x = 5\t\n",
        "+=\t      x += 3\t  x = x + 3\t\n",
        "-=\t      x -= 3\t  x = x - 3\t\n",
        "*=\t      x *= 3\t  x = x * 3\t\n",
        "/=\t      x /= 3\t  x = x / 3\t\n",
        "%=\t      x %= 3\t  x = x % 3\t\n",
        "//=\t     x //= 3\t x = x // 3\t\n",
        "**=\t     x **= 3\t x = x ** 3\t\n",
        "&=\t      x &= 3\t  x = x & 3\t\n",
        "|=\t      x |= 3\t  x = x | 3\t\n",
        "^=\t      x ^= 3\t  x = x ^ 3\t\n",
        ">>=\t     x >>= 3\t x = x >> 3\t\n",
        "<<=\t     x<<= 3\t  x = x << 3\n",
        "```\n"
      ],
      "metadata": {
        "id": "g-CjesfRsXjH"
      }
    },
    {
      "cell_type": "code",
      "source": [
        "x = 5\n",
        "print(f\"Old value of x is : {x}\")\n",
        "x += 2\n",
        "print(f\"New value of x is : {x}\")"
      ],
      "metadata": {
        "colab": {
          "base_uri": "https://localhost:8080/"
        },
        "id": "uK8ieVgiuaTK",
        "outputId": "970be083-7726-4f0f-87fc-228768006a90"
      },
      "execution_count": null,
      "outputs": [
        {
          "output_type": "stream",
          "name": "stdout",
          "text": [
            "Old value of x is : 5\n",
            "New value of x is : 7\n"
          ]
        }
      ]
    },
    {
      "cell_type": "code",
      "source": [
        "y = 12\n",
        "print(f\"Old value of y is : {y}\")\n",
        "y *= 2\n",
        "print(f\"New value of y is : {y}\")"
      ],
      "metadata": {
        "colab": {
          "base_uri": "https://localhost:8080/"
        },
        "id": "JB74vuCouhSF",
        "outputId": "d3e69e1a-6097-4cf2-da0f-a4b0151dfc63"
      },
      "execution_count": null,
      "outputs": [
        {
          "output_type": "stream",
          "name": "stdout",
          "text": [
            "Old value of y is : 12\n",
            "New value of y is : 24\n"
          ]
        }
      ]
    },
    {
      "cell_type": "markdown",
      "source": [
        "####**1.9.6 Ientity Operator :-**\n",
        "\n",
        "Identity operators are used to compare the objects, not if they are equal, but if they are actually the same object, with the same memory location.\n",
        "\n",
        "```\n",
        "Operator\t Description\t                                           Example\n",
        "```\n",
        "---\n",
        "```\n",
        "is \t      Returns true if both variables are the same object\t    x is y\t\n",
        "is not\t   Returns true if both variables are not the same object\tx is not y\n",
        "```\n"
      ],
      "metadata": {
        "id": "_SYsDpF9vKPt"
      }
    },
    {
      "cell_type": "code",
      "source": [
        "a,b,c=15,19,26\n",
        "A,B,C = 25,19,63\n",
        "#here b and B is memory location is same therefoer it give True\n",
        "print(b is B)\n",
        "print(id(b))\n",
        "print(id(B))"
      ],
      "metadata": {
        "colab": {
          "base_uri": "https://localhost:8080/"
        },
        "id": "fyRdk13Xvurk",
        "outputId": "b3db5e29-9bfa-475b-e6aa-c99e52cdc3d7"
      },
      "execution_count": null,
      "outputs": [
        {
          "output_type": "stream",
          "name": "stdout",
          "text": [
            "True\n",
            "9793664\n",
            "9793664\n"
          ]
        }
      ]
    },
    {
      "cell_type": "markdown",
      "source": [
        "####**1.9.7 Membership Oerator :-**\n",
        "\n",
        "Membership operators are used to test if a sequence is presented in an object.\n",
        "\n",
        "```\n",
        "Operator\tDescription\t                                       Example\n",
        "```\n",
        "---\n",
        "```\n",
        "in \t      Returns True if a sequence with the                   x in y\n",
        "             specified value is present in the object\t\t\n",
        "not in\t   Returns True if a sequence with the                   x not in y\n",
        "             specified value is not present in the object\t\n",
        "```\n"
      ],
      "metadata": {
        "id": "lMgWPlxkwZmo"
      }
    },
    {
      "cell_type": "code",
      "source": [
        "list = [14,25,36,41]\n",
        "for l in list :\n",
        "  print(l,end=\" \")"
      ],
      "metadata": {
        "colab": {
          "base_uri": "https://localhost:8080/"
        },
        "id": "cn8Gd4urxNjM",
        "outputId": "58d5a075-da7a-4d5c-c6c2-0d2bc9881f9f"
      },
      "execution_count": null,
      "outputs": [
        {
          "output_type": "stream",
          "name": "stdout",
          "text": [
            "14 25 36 41 "
          ]
        }
      ]
    },
    {
      "cell_type": "markdown",
      "source": [
        "###**1.10 Python Flow Control:-**\n",
        "\n",
        "Over here we learn,\n",
        "\n",
        "\n",
        "*   if statement\n",
        "*   if...else statement\n",
        "*   elif \n",
        "*   for loop\n",
        "*   while loop\n",
        "*   break ,pass and continue\n",
        "\n",
        "\n",
        "\n",
        "\n",
        "\n"
      ],
      "metadata": {
        "id": "SJw-6X6MmQn3"
      }
    },
    {
      "cell_type": "markdown",
      "source": [
        "####**1.10.1 If Statement:-**\n",
        "\n",
        "In Python we use If Statement to execute certain block of code if the certain condition is statisfied.\n",
        "\n",
        "![download.png](data:image/png;base64,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)"
      ],
      "metadata": {
        "id": "R0EhzdrLuMY7"
      }
    },
    {
      "cell_type": "code",
      "source": [
        "num = int(input(\"Enter Your Number :- \"))\n",
        "\n",
        "if num > 50 :\n",
        "  print(f\"{num} is Greater than 50.\")"
      ],
      "metadata": {
        "colab": {
          "base_uri": "https://localhost:8080/"
        },
        "id": "10x3_AAipKzi",
        "outputId": "54e8c8b3-da13-40e0-f160-ff7a8a08557b"
      },
      "execution_count": null,
      "outputs": [
        {
          "output_type": "stream",
          "name": "stdout",
          "text": [
            "Enter Your Number :- 63\n",
            "63 is Greater than 50.\n"
          ]
        }
      ]
    },
    {
      "cell_type": "markdown",
      "source": [
        "####**1.10.2 If...else Statement:-**\n",
        "\n",
        "In Python we use if...else to execute certain block of code if certain condition is statified and if that condition is not satisfied than it execute else part block of code.\n",
        "\n",
        "![images.png](data:image/png;base64,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)"
      ],
      "metadata": {
        "id": "18j8HKr1pkQW"
      }
    },
    {
      "cell_type": "code",
      "source": [
        "num = int(input(\"Enter Your Number :- \"))\n",
        "\n",
        "if num>50 :\n",
        "  print(f\"{num} is greater than 50.\")\n",
        "else :\n",
        "  print(f\"{num} is less than 50.\")  \n"
      ],
      "metadata": {
        "colab": {
          "base_uri": "https://localhost:8080/"
        },
        "id": "qnvjPQJarL9I",
        "outputId": "1cd4744c-7556-4f83-c1a9-052982b7759a"
      },
      "execution_count": null,
      "outputs": [
        {
          "output_type": "stream",
          "name": "stdout",
          "text": [
            "Enter Your Number :- 42\n",
            "42 is less than 50.\n"
          ]
        }
      ]
    },
    {
      "cell_type": "markdown",
      "source": [
        "####**1.10.3 Elif statement:-**\n",
        "\n",
        "In Python we used elif statement to execute try out several condition and execute only if condition is satisfied.\n",
        "\n",
        "![if-elif-else.jpg](data:image/jpeg;base64,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)"
      ],
      "metadata": {
        "id": "6BrFHlmzrtQp"
      }
    },
    {
      "cell_type": "code",
      "source": [
        "num = int(input(\"Enter Your Number :- \"))\n",
        "\n",
        "if num>50:\n",
        "  print(f\"{num} is Greater than 50.\")\n",
        "elif num==50:\n",
        "  print(f\"{num} is Equal to 50.\")\n",
        "else :\n",
        "  print(f\"{num} is less than 50\")  \n",
        "\n"
      ],
      "metadata": {
        "colab": {
          "base_uri": "https://localhost:8080/"
        },
        "id": "C1sYyZVjxrt0",
        "outputId": "d051c229-664c-498f-fc0e-cdc025bf2490"
      },
      "execution_count": null,
      "outputs": [
        {
          "output_type": "stream",
          "name": "stdout",
          "text": [
            "Enter Your Number :- 50\n",
            "50 is Equal to 50.\n"
          ]
        }
      ]
    },
    {
      "cell_type": "markdown",
      "source": [
        "####**1.10.4 Foor Loop:-**\n",
        "\n",
        "InPython,we use For Loop to iterate over a squence either list ,string or other iterable objects.This process is referred to as traversal.\n",
        "\n",
        "Example:-"
      ],
      "metadata": {
        "id": "18TJSE6vyLNY"
      }
    },
    {
      "cell_type": "code",
      "source": [
        "#For Loop demonstation\n",
        "myList = [12,15,28,36,52]\n",
        "print(\"Elements of List are :\",end=\" \")\n",
        "for i in myList:\n",
        "  print(i,end=\" \")"
      ],
      "metadata": {
        "colab": {
          "base_uri": "https://localhost:8080/"
        },
        "id": "YT02MZ51zDmE",
        "outputId": "c0a1ffc3-b907-4e81-bf4d-3bdf79e08bbc"
      },
      "execution_count": null,
      "outputs": [
        {
          "output_type": "stream",
          "name": "stdout",
          "text": [
            "Elements of List are :  12 15 28 36 52 "
          ]
        }
      ]
    },
    {
      "cell_type": "code",
      "source": [
        "#condition inside for loop\n",
        "myNum = [2,6,9,15,20,34,53]\n",
        "\n",
        "for i in myNum :\n",
        "  #It check for odd numbers only and print odd numbers from myNum\n",
        "  if i%2==0 :\n",
        "    print(i,end=\" \")"
      ],
      "metadata": {
        "colab": {
          "base_uri": "https://localhost:8080/"
        },
        "id": "aaedsFQY17ju",
        "outputId": "1869ee52-fc1a-4953-eb1c-1526d7b761a6"
      },
      "execution_count": null,
      "outputs": [
        {
          "output_type": "stream",
          "name": "stdout",
          "text": [
            "2 6 20 34 "
          ]
        }
      ]
    },
    {
      "cell_type": "markdown",
      "source": [
        "####**1.10.5 While Loop:-**\n",
        "\n",
        "InPython, While loop is used to iterate over a block of code as long as the condition is true.\n",
        "\n",
        "![download.png](data:image/png;base64,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)\n",
        "\n",
        "Example:-"
      ],
      "metadata": {
        "id": "gv0iBmrR1Bhf"
      }
    },
    {
      "cell_type": "code",
      "source": [
        "num = 10\n",
        "i = 5\n",
        "while i<=num:\n",
        "  print(i)\n",
        "  i +=1 "
      ],
      "metadata": {
        "colab": {
          "base_uri": "https://localhost:8080/"
        },
        "id": "tLBKGKBi4Kpz",
        "outputId": "c15322f7-1732-4091-d7bb-8fe335e8fd79"
      },
      "execution_count": null,
      "outputs": [
        {
          "output_type": "stream",
          "name": "stdout",
          "text": [
            "5\n",
            "6\n",
            "7\n",
            "8\n",
            "9\n",
            "10\n"
          ]
        }
      ]
    },
    {
      "cell_type": "markdown",
      "source": [
        "####**1.10.6 Break:-**\n",
        "\n",
        "The break in Python terminate the current loop and resume the execution at next statement \n",
        "\n",
        "![cpp_break_statement.jpg](data:image/jpeg;base64,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)\n",
        "\n",
        "Example:-"
      ],
      "metadata": {
        "id": "gRhtW1Dq4XGM"
      }
    },
    {
      "cell_type": "code",
      "source": [
        "#the below for loop execution terminated at i=5 and i=1 to i=4 is printed\n",
        "for i in range(1,11):\n",
        "  if i==5:\n",
        "    break\n",
        "  print(i)  "
      ],
      "metadata": {
        "colab": {
          "base_uri": "https://localhost:8080/"
        },
        "id": "Au737VEJ5f4m",
        "outputId": "111b53b3-a13c-49b7-ae09-4ae707a1ff1e"
      },
      "execution_count": null,
      "outputs": [
        {
          "output_type": "stream",
          "name": "stdout",
          "text": [
            "1\n",
            "2\n",
            "3\n",
            "4\n"
          ]
        }
      ]
    },
    {
      "cell_type": "markdown",
      "source": [
        "####**1.10.7 Continue:-**\n",
        "\n",
        "Thik of a situation where you need towrite a program that print numbers from 1 to 10 but it not print 8, in that scenario **continue** is helpful for us.\n",
        "\n",
        "![continue.jpg](data:image/jpeg;base64,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)\n",
        "\n",
        "Example:-"
      ],
      "metadata": {
        "id": "ODWmuvj-6AC5"
      }
    },
    {
      "cell_type": "code",
      "source": [
        "#this is demonstration of continue\n",
        "\n",
        "for i in range(1,11):\n",
        "  if i==8:\n",
        "    continue\n",
        "  print(i,end=\" \")  "
      ],
      "metadata": {
        "colab": {
          "base_uri": "https://localhost:8080/"
        },
        "id": "lot_FpBr7fsn",
        "outputId": "a4beeedd-16ac-4108-fa66-596c66aefff0"
      },
      "execution_count": null,
      "outputs": [
        {
          "output_type": "stream",
          "name": "stdout",
          "text": [
            "1 2 3 4 5 6 7 9 10 "
          ]
        }
      ]
    },
    {
      "cell_type": "markdown",
      "source": [
        "####**1.10.8 Pass:-**\n",
        "\n",
        "The pass statement is used as a placeholder for future code. When the pass statement is executed, nothing happens, but you avoid getting an error when empty code is not allowed. Empty code is not allowed in loops, function definitions, class definitions, or in if statements.\n",
        "\n",
        "Example:-"
      ],
      "metadata": {
        "id": "7R7Cyygk7_G1"
      }
    },
    {
      "cell_type": "code",
      "source": [
        "#pass demonstration\n",
        "\n",
        "def addNum(a,b):\n",
        "  pass\n",
        "\n",
        "addNum(5,2)"
      ],
      "metadata": {
        "id": "vIZkVQ5g8Vsc"
      },
      "execution_count": null,
      "outputs": []
    }
  ]
}